{
 "cells": [
  {
   "cell_type": "code",
   "execution_count": 1,
   "id": "6495e5fa",
   "metadata": {
    "_cell_guid": "b1076dfc-b9ad-4769-8c92-a6c4dae69d19",
    "_uuid": "8f2839f25d086af736a60e9eeb907d3b93b6e0e5",
    "execution": {
     "iopub.execute_input": "2021-07-13T16:31:04.861494Z",
     "iopub.status.busy": "2021-07-13T16:31:04.860157Z",
     "iopub.status.idle": "2021-07-13T16:31:05.943120Z",
     "shell.execute_reply": "2021-07-13T16:31:05.942417Z",
     "shell.execute_reply.started": "2021-07-13T16:30:16.670484Z"
    },
    "papermill": {
     "duration": 1.144865,
     "end_time": "2021-07-13T16:31:05.943308",
     "exception": false,
     "start_time": "2021-07-13T16:31:04.798443",
     "status": "completed"
    },
    "tags": []
   },
   "outputs": [
    {
     "name": "stdout",
     "output_type": "stream",
     "text": [
      "/kaggle/input/heart-attack-analysis-prediction-dataset/o2Saturation.csv\n",
      "/kaggle/input/heart-attack-analysis-prediction-dataset/heart.csv\n"
     ]
    }
   ],
   "source": [
    "# This Python 3 environment comes with many helpful analytics libraries installed\n",
    "# It is defined by the kaggle/python Docker image: https://github.com/kaggle/docker-python\n",
    "# For example, here's several helpful packages to load\n",
    "\n",
    "import numpy as np # linear algebra\n",
    "import pandas as pd # data processing, CSV file I/O (e.g. pd.read_csv)\n",
    "import matplotlib.pyplot as plt\n",
    "import seaborn as sns\n",
    "# Input data files are available in the read-only \"../input/\" directory\n",
    "# For example, running this (by clicking run or pressing Shift+Enter) will list all files under the input directory\n",
    "\n",
    "import os\n",
    "for dirname, _, filenames in os.walk('/kaggle/input'):\n",
    "    for filename in filenames:\n",
    "        print(os.path.join(dirname, filename))\n",
    "\n",
    "# You can write up to 20GB to the current directory (/kaggle/working/) that gets preserved as output when you create a version using \"Save & Run All\" \n",
    "# You can also write temporary files to /kaggle/temp/, but they won't be saved outside of the current session"
   ]
  },
  {
   "cell_type": "code",
   "execution_count": 2,
   "id": "305da08d",
   "metadata": {
    "execution": {
     "iopub.execute_input": "2021-07-13T16:31:06.062785Z",
     "iopub.status.busy": "2021-07-13T16:31:06.062053Z",
     "iopub.status.idle": "2021-07-13T16:31:06.065308Z",
     "shell.execute_reply": "2021-07-13T16:31:06.064762Z",
     "shell.execute_reply.started": "2021-07-13T16:30:16.685899Z"
    },
    "papermill": {
     "duration": 0.063267,
     "end_time": "2021-07-13T16:31:06.065449",
     "exception": false,
     "start_time": "2021-07-13T16:31:06.002182",
     "status": "completed"
    },
    "tags": []
   },
   "outputs": [],
   "source": [
    "import warnings\n",
    "warnings.filterwarnings('ignore')"
   ]
  },
  {
   "cell_type": "markdown",
   "id": "89f3f146",
   "metadata": {
    "papermill": {
     "duration": 0.056431,
     "end_time": "2021-07-13T16:31:06.178182",
     "exception": false,
     "start_time": "2021-07-13T16:31:06.121751",
     "status": "completed"
    },
    "tags": []
   },
   "source": [
    "# Dataset description\n",
    "\n",
    "Age : Age of the patient\n",
    "\n",
    "Sex : Sex of the patient\n",
    "\n",
    "exang: exercise induced angina (1 = yes; 0 = no)\n",
    "\n",
    "ca: number of major vessels (0-3)\n",
    "\n",
    "cp : Chest Pain type chest pain type\n",
    "\n",
    "Value 1: typical angina\n",
    "\n",
    "Value 2: atypical angina\n",
    "\n",
    "Value 3: non-anginal pain\n",
    "\n",
    "Value 4: asymptomatic\n",
    "\n",
    "trtbps : resting blood pressure (in mm Hg)\n",
    "\n",
    "chol : cholestoral in mg/dl fetched via BMI sensor\n",
    "\n",
    "fbs : (fasting blood sugar > 120 mg/dl) (1 = true; 0 = false)\n",
    "\n",
    "rest_ecg : resting electrocardiographic results\n",
    "\n",
    "Value 0: normal\n",
    "\n",
    "Value 1: having ST-T wave abnormality (T wave inversions and/or ST elevation or depression of > 0.05 mV)\n",
    "\n",
    "Value 2: showing probable or definite left ventricular hypertrophy by Estes' criteria\n",
    "\n",
    "thalach : maximum heart rate achieved\n",
    "\n",
    "target : 0= less chance of heart attack 1= more chance of heart attack\n"
   ]
  },
  {
   "cell_type": "code",
   "execution_count": 3,
   "id": "a04c5f9c",
   "metadata": {
    "execution": {
     "iopub.execute_input": "2021-07-13T16:31:06.303668Z",
     "iopub.status.busy": "2021-07-13T16:31:06.302948Z",
     "iopub.status.idle": "2021-07-13T16:31:06.319567Z",
     "shell.execute_reply": "2021-07-13T16:31:06.318935Z",
     "shell.execute_reply.started": "2021-07-13T16:30:16.700772Z"
    },
    "papermill": {
     "duration": 0.085505,
     "end_time": "2021-07-13T16:31:06.319744",
     "exception": false,
     "start_time": "2021-07-13T16:31:06.234239",
     "status": "completed"
    },
    "tags": []
   },
   "outputs": [],
   "source": [
    "data=pd.read_csv('/kaggle/input/heart-attack-analysis-prediction-dataset/heart.csv')\n"
   ]
  },
  {
   "cell_type": "code",
   "execution_count": 4,
   "id": "1fccb01a",
   "metadata": {
    "execution": {
     "iopub.execute_input": "2021-07-13T16:31:06.454681Z",
     "iopub.status.busy": "2021-07-13T16:31:06.453990Z",
     "iopub.status.idle": "2021-07-13T16:31:06.477411Z",
     "shell.execute_reply": "2021-07-13T16:31:06.477922Z",
     "shell.execute_reply.started": "2021-07-13T16:30:16.719811Z"
    },
    "papermill": {
     "duration": 0.090068,
     "end_time": "2021-07-13T16:31:06.478110",
     "exception": false,
     "start_time": "2021-07-13T16:31:06.388042",
     "status": "completed"
    },
    "tags": []
   },
   "outputs": [
    {
     "data": {
      "text/html": [
       "<div>\n",
       "<style scoped>\n",
       "    .dataframe tbody tr th:only-of-type {\n",
       "        vertical-align: middle;\n",
       "    }\n",
       "\n",
       "    .dataframe tbody tr th {\n",
       "        vertical-align: top;\n",
       "    }\n",
       "\n",
       "    .dataframe thead th {\n",
       "        text-align: right;\n",
       "    }\n",
       "</style>\n",
       "<table border=\"1\" class=\"dataframe\">\n",
       "  <thead>\n",
       "    <tr style=\"text-align: right;\">\n",
       "      <th></th>\n",
       "      <th>age</th>\n",
       "      <th>sex</th>\n",
       "      <th>cp</th>\n",
       "      <th>trtbps</th>\n",
       "      <th>chol</th>\n",
       "      <th>fbs</th>\n",
       "      <th>restecg</th>\n",
       "      <th>thalachh</th>\n",
       "      <th>exng</th>\n",
       "      <th>oldpeak</th>\n",
       "      <th>slp</th>\n",
       "      <th>caa</th>\n",
       "      <th>thall</th>\n",
       "      <th>output</th>\n",
       "    </tr>\n",
       "  </thead>\n",
       "  <tbody>\n",
       "    <tr>\n",
       "      <th>0</th>\n",
       "      <td>63</td>\n",
       "      <td>1</td>\n",
       "      <td>3</td>\n",
       "      <td>145</td>\n",
       "      <td>233</td>\n",
       "      <td>1</td>\n",
       "      <td>0</td>\n",
       "      <td>150</td>\n",
       "      <td>0</td>\n",
       "      <td>2.3</td>\n",
       "      <td>0</td>\n",
       "      <td>0</td>\n",
       "      <td>1</td>\n",
       "      <td>1</td>\n",
       "    </tr>\n",
       "    <tr>\n",
       "      <th>1</th>\n",
       "      <td>37</td>\n",
       "      <td>1</td>\n",
       "      <td>2</td>\n",
       "      <td>130</td>\n",
       "      <td>250</td>\n",
       "      <td>0</td>\n",
       "      <td>1</td>\n",
       "      <td>187</td>\n",
       "      <td>0</td>\n",
       "      <td>3.5</td>\n",
       "      <td>0</td>\n",
       "      <td>0</td>\n",
       "      <td>2</td>\n",
       "      <td>1</td>\n",
       "    </tr>\n",
       "    <tr>\n",
       "      <th>2</th>\n",
       "      <td>41</td>\n",
       "      <td>0</td>\n",
       "      <td>1</td>\n",
       "      <td>130</td>\n",
       "      <td>204</td>\n",
       "      <td>0</td>\n",
       "      <td>0</td>\n",
       "      <td>172</td>\n",
       "      <td>0</td>\n",
       "      <td>1.4</td>\n",
       "      <td>2</td>\n",
       "      <td>0</td>\n",
       "      <td>2</td>\n",
       "      <td>1</td>\n",
       "    </tr>\n",
       "    <tr>\n",
       "      <th>3</th>\n",
       "      <td>56</td>\n",
       "      <td>1</td>\n",
       "      <td>1</td>\n",
       "      <td>120</td>\n",
       "      <td>236</td>\n",
       "      <td>0</td>\n",
       "      <td>1</td>\n",
       "      <td>178</td>\n",
       "      <td>0</td>\n",
       "      <td>0.8</td>\n",
       "      <td>2</td>\n",
       "      <td>0</td>\n",
       "      <td>2</td>\n",
       "      <td>1</td>\n",
       "    </tr>\n",
       "    <tr>\n",
       "      <th>4</th>\n",
       "      <td>57</td>\n",
       "      <td>0</td>\n",
       "      <td>0</td>\n",
       "      <td>120</td>\n",
       "      <td>354</td>\n",
       "      <td>0</td>\n",
       "      <td>1</td>\n",
       "      <td>163</td>\n",
       "      <td>1</td>\n",
       "      <td>0.6</td>\n",
       "      <td>2</td>\n",
       "      <td>0</td>\n",
       "      <td>2</td>\n",
       "      <td>1</td>\n",
       "    </tr>\n",
       "  </tbody>\n",
       "</table>\n",
       "</div>"
      ],
      "text/plain": [
       "   age  sex  cp  trtbps  chol  fbs  restecg  thalachh  exng  oldpeak  slp  \\\n",
       "0   63    1   3     145   233    1        0       150     0      2.3    0   \n",
       "1   37    1   2     130   250    0        1       187     0      3.5    0   \n",
       "2   41    0   1     130   204    0        0       172     0      1.4    2   \n",
       "3   56    1   1     120   236    0        1       178     0      0.8    2   \n",
       "4   57    0   0     120   354    0        1       163     1      0.6    2   \n",
       "\n",
       "   caa  thall  output  \n",
       "0    0      1       1  \n",
       "1    0      2       1  \n",
       "2    0      2       1  \n",
       "3    0      2       1  \n",
       "4    0      2       1  "
      ]
     },
     "execution_count": 4,
     "metadata": {},
     "output_type": "execute_result"
    }
   ],
   "source": [
    "data.head()"
   ]
  },
  {
   "cell_type": "code",
   "execution_count": 5,
   "id": "23550764",
   "metadata": {
    "execution": {
     "iopub.execute_input": "2021-07-13T16:31:06.594487Z",
     "iopub.status.busy": "2021-07-13T16:31:06.593888Z",
     "iopub.status.idle": "2021-07-13T16:31:06.598704Z",
     "shell.execute_reply": "2021-07-13T16:31:06.599258Z",
     "shell.execute_reply.started": "2021-07-13T16:30:16.743010Z"
    },
    "papermill": {
     "duration": 0.064788,
     "end_time": "2021-07-13T16:31:06.599430",
     "exception": false,
     "start_time": "2021-07-13T16:31:06.534642",
     "status": "completed"
    },
    "tags": []
   },
   "outputs": [
    {
     "data": {
      "text/plain": [
       "(303, 14)"
      ]
     },
     "execution_count": 5,
     "metadata": {},
     "output_type": "execute_result"
    }
   ],
   "source": [
    "data.shape"
   ]
  },
  {
   "cell_type": "code",
   "execution_count": 6,
   "id": "34d61f39",
   "metadata": {
    "execution": {
     "iopub.execute_input": "2021-07-13T16:31:06.715339Z",
     "iopub.status.busy": "2021-07-13T16:31:06.714659Z",
     "iopub.status.idle": "2021-07-13T16:31:06.719972Z",
     "shell.execute_reply": "2021-07-13T16:31:06.720490Z",
     "shell.execute_reply.started": "2021-07-13T16:30:16.756332Z"
    },
    "papermill": {
     "duration": 0.065027,
     "end_time": "2021-07-13T16:31:06.720684",
     "exception": false,
     "start_time": "2021-07-13T16:31:06.655657",
     "status": "completed"
    },
    "tags": []
   },
   "outputs": [
    {
     "data": {
      "text/plain": [
       "Index(['age', 'sex', 'cp', 'trtbps', 'chol', 'fbs', 'restecg', 'thalachh',\n",
       "       'exng', 'oldpeak', 'slp', 'caa', 'thall', 'output'],\n",
       "      dtype='object')"
      ]
     },
     "execution_count": 6,
     "metadata": {},
     "output_type": "execute_result"
    }
   ],
   "source": [
    "data.columns"
   ]
  },
  {
   "cell_type": "code",
   "execution_count": 7,
   "id": "653c2e14",
   "metadata": {
    "execution": {
     "iopub.execute_input": "2021-07-13T16:31:06.839101Z",
     "iopub.status.busy": "2021-07-13T16:31:06.838447Z",
     "iopub.status.idle": "2021-07-13T16:31:06.861578Z",
     "shell.execute_reply": "2021-07-13T16:31:06.860921Z",
     "shell.execute_reply.started": "2021-07-13T16:30:16.771084Z"
    },
    "papermill": {
     "duration": 0.083774,
     "end_time": "2021-07-13T16:31:06.861716",
     "exception": false,
     "start_time": "2021-07-13T16:31:06.777942",
     "status": "completed"
    },
    "tags": []
   },
   "outputs": [
    {
     "name": "stdout",
     "output_type": "stream",
     "text": [
      "<class 'pandas.core.frame.DataFrame'>\n",
      "RangeIndex: 303 entries, 0 to 302\n",
      "Data columns (total 14 columns):\n",
      " #   Column    Non-Null Count  Dtype  \n",
      "---  ------    --------------  -----  \n",
      " 0   age       303 non-null    int64  \n",
      " 1   sex       303 non-null    int64  \n",
      " 2   cp        303 non-null    int64  \n",
      " 3   trtbps    303 non-null    int64  \n",
      " 4   chol      303 non-null    int64  \n",
      " 5   fbs       303 non-null    int64  \n",
      " 6   restecg   303 non-null    int64  \n",
      " 7   thalachh  303 non-null    int64  \n",
      " 8   exng      303 non-null    int64  \n",
      " 9   oldpeak   303 non-null    float64\n",
      " 10  slp       303 non-null    int64  \n",
      " 11  caa       303 non-null    int64  \n",
      " 12  thall     303 non-null    int64  \n",
      " 13  output    303 non-null    int64  \n",
      "dtypes: float64(1), int64(13)\n",
      "memory usage: 33.3 KB\n"
     ]
    }
   ],
   "source": [
    "data.info()"
   ]
  },
  {
   "cell_type": "code",
   "execution_count": 8,
   "id": "3174927a",
   "metadata": {
    "execution": {
     "iopub.execute_input": "2021-07-13T16:31:06.985138Z",
     "iopub.status.busy": "2021-07-13T16:31:06.984480Z",
     "iopub.status.idle": "2021-07-13T16:31:06.987392Z",
     "shell.execute_reply": "2021-07-13T16:31:06.987910Z",
     "shell.execute_reply.started": "2021-07-13T16:30:16.799676Z"
    },
    "papermill": {
     "duration": 0.069141,
     "end_time": "2021-07-13T16:31:06.988080",
     "exception": false,
     "start_time": "2021-07-13T16:31:06.918939",
     "status": "completed"
    },
    "tags": []
   },
   "outputs": [
    {
     "data": {
      "text/plain": [
       "age         0\n",
       "sex         0\n",
       "cp          0\n",
       "trtbps      0\n",
       "chol        0\n",
       "fbs         0\n",
       "restecg     0\n",
       "thalachh    0\n",
       "exng        0\n",
       "oldpeak     0\n",
       "slp         0\n",
       "caa         0\n",
       "thall       0\n",
       "output      0\n",
       "dtype: int64"
      ]
     },
     "execution_count": 8,
     "metadata": {},
     "output_type": "execute_result"
    }
   ],
   "source": [
    "data.isnull().sum()"
   ]
  },
  {
   "cell_type": "code",
   "execution_count": 9,
   "id": "3d14bd84",
   "metadata": {
    "execution": {
     "iopub.execute_input": "2021-07-13T16:31:07.107051Z",
     "iopub.status.busy": "2021-07-13T16:31:07.106376Z",
     "iopub.status.idle": "2021-07-13T16:31:07.167423Z",
     "shell.execute_reply": "2021-07-13T16:31:07.166718Z",
     "shell.execute_reply.started": "2021-07-13T16:30:16.822725Z"
    },
    "papermill": {
     "duration": 0.121655,
     "end_time": "2021-07-13T16:31:07.167589",
     "exception": false,
     "start_time": "2021-07-13T16:31:07.045934",
     "status": "completed"
    },
    "tags": []
   },
   "outputs": [
    {
     "data": {
      "text/html": [
       "<div>\n",
       "<style scoped>\n",
       "    .dataframe tbody tr th:only-of-type {\n",
       "        vertical-align: middle;\n",
       "    }\n",
       "\n",
       "    .dataframe tbody tr th {\n",
       "        vertical-align: top;\n",
       "    }\n",
       "\n",
       "    .dataframe thead th {\n",
       "        text-align: right;\n",
       "    }\n",
       "</style>\n",
       "<table border=\"1\" class=\"dataframe\">\n",
       "  <thead>\n",
       "    <tr style=\"text-align: right;\">\n",
       "      <th></th>\n",
       "      <th>count</th>\n",
       "      <th>mean</th>\n",
       "      <th>std</th>\n",
       "      <th>min</th>\n",
       "      <th>25%</th>\n",
       "      <th>50%</th>\n",
       "      <th>75%</th>\n",
       "      <th>max</th>\n",
       "    </tr>\n",
       "  </thead>\n",
       "  <tbody>\n",
       "    <tr>\n",
       "      <th>age</th>\n",
       "      <td>303.0</td>\n",
       "      <td>54.366337</td>\n",
       "      <td>9.082101</td>\n",
       "      <td>29.0</td>\n",
       "      <td>47.5</td>\n",
       "      <td>55.0</td>\n",
       "      <td>61.0</td>\n",
       "      <td>77.0</td>\n",
       "    </tr>\n",
       "    <tr>\n",
       "      <th>sex</th>\n",
       "      <td>303.0</td>\n",
       "      <td>0.683168</td>\n",
       "      <td>0.466011</td>\n",
       "      <td>0.0</td>\n",
       "      <td>0.0</td>\n",
       "      <td>1.0</td>\n",
       "      <td>1.0</td>\n",
       "      <td>1.0</td>\n",
       "    </tr>\n",
       "    <tr>\n",
       "      <th>cp</th>\n",
       "      <td>303.0</td>\n",
       "      <td>0.966997</td>\n",
       "      <td>1.032052</td>\n",
       "      <td>0.0</td>\n",
       "      <td>0.0</td>\n",
       "      <td>1.0</td>\n",
       "      <td>2.0</td>\n",
       "      <td>3.0</td>\n",
       "    </tr>\n",
       "    <tr>\n",
       "      <th>trtbps</th>\n",
       "      <td>303.0</td>\n",
       "      <td>131.623762</td>\n",
       "      <td>17.538143</td>\n",
       "      <td>94.0</td>\n",
       "      <td>120.0</td>\n",
       "      <td>130.0</td>\n",
       "      <td>140.0</td>\n",
       "      <td>200.0</td>\n",
       "    </tr>\n",
       "    <tr>\n",
       "      <th>chol</th>\n",
       "      <td>303.0</td>\n",
       "      <td>246.264026</td>\n",
       "      <td>51.830751</td>\n",
       "      <td>126.0</td>\n",
       "      <td>211.0</td>\n",
       "      <td>240.0</td>\n",
       "      <td>274.5</td>\n",
       "      <td>564.0</td>\n",
       "    </tr>\n",
       "    <tr>\n",
       "      <th>fbs</th>\n",
       "      <td>303.0</td>\n",
       "      <td>0.148515</td>\n",
       "      <td>0.356198</td>\n",
       "      <td>0.0</td>\n",
       "      <td>0.0</td>\n",
       "      <td>0.0</td>\n",
       "      <td>0.0</td>\n",
       "      <td>1.0</td>\n",
       "    </tr>\n",
       "    <tr>\n",
       "      <th>restecg</th>\n",
       "      <td>303.0</td>\n",
       "      <td>0.528053</td>\n",
       "      <td>0.525860</td>\n",
       "      <td>0.0</td>\n",
       "      <td>0.0</td>\n",
       "      <td>1.0</td>\n",
       "      <td>1.0</td>\n",
       "      <td>2.0</td>\n",
       "    </tr>\n",
       "    <tr>\n",
       "      <th>thalachh</th>\n",
       "      <td>303.0</td>\n",
       "      <td>149.646865</td>\n",
       "      <td>22.905161</td>\n",
       "      <td>71.0</td>\n",
       "      <td>133.5</td>\n",
       "      <td>153.0</td>\n",
       "      <td>166.0</td>\n",
       "      <td>202.0</td>\n",
       "    </tr>\n",
       "    <tr>\n",
       "      <th>exng</th>\n",
       "      <td>303.0</td>\n",
       "      <td>0.326733</td>\n",
       "      <td>0.469794</td>\n",
       "      <td>0.0</td>\n",
       "      <td>0.0</td>\n",
       "      <td>0.0</td>\n",
       "      <td>1.0</td>\n",
       "      <td>1.0</td>\n",
       "    </tr>\n",
       "    <tr>\n",
       "      <th>oldpeak</th>\n",
       "      <td>303.0</td>\n",
       "      <td>1.039604</td>\n",
       "      <td>1.161075</td>\n",
       "      <td>0.0</td>\n",
       "      <td>0.0</td>\n",
       "      <td>0.8</td>\n",
       "      <td>1.6</td>\n",
       "      <td>6.2</td>\n",
       "    </tr>\n",
       "    <tr>\n",
       "      <th>slp</th>\n",
       "      <td>303.0</td>\n",
       "      <td>1.399340</td>\n",
       "      <td>0.616226</td>\n",
       "      <td>0.0</td>\n",
       "      <td>1.0</td>\n",
       "      <td>1.0</td>\n",
       "      <td>2.0</td>\n",
       "      <td>2.0</td>\n",
       "    </tr>\n",
       "    <tr>\n",
       "      <th>caa</th>\n",
       "      <td>303.0</td>\n",
       "      <td>0.729373</td>\n",
       "      <td>1.022606</td>\n",
       "      <td>0.0</td>\n",
       "      <td>0.0</td>\n",
       "      <td>0.0</td>\n",
       "      <td>1.0</td>\n",
       "      <td>4.0</td>\n",
       "    </tr>\n",
       "    <tr>\n",
       "      <th>thall</th>\n",
       "      <td>303.0</td>\n",
       "      <td>2.313531</td>\n",
       "      <td>0.612277</td>\n",
       "      <td>0.0</td>\n",
       "      <td>2.0</td>\n",
       "      <td>2.0</td>\n",
       "      <td>3.0</td>\n",
       "      <td>3.0</td>\n",
       "    </tr>\n",
       "    <tr>\n",
       "      <th>output</th>\n",
       "      <td>303.0</td>\n",
       "      <td>0.544554</td>\n",
       "      <td>0.498835</td>\n",
       "      <td>0.0</td>\n",
       "      <td>0.0</td>\n",
       "      <td>1.0</td>\n",
       "      <td>1.0</td>\n",
       "      <td>1.0</td>\n",
       "    </tr>\n",
       "  </tbody>\n",
       "</table>\n",
       "</div>"
      ],
      "text/plain": [
       "          count        mean        std    min    25%    50%    75%    max\n",
       "age       303.0   54.366337   9.082101   29.0   47.5   55.0   61.0   77.0\n",
       "sex       303.0    0.683168   0.466011    0.0    0.0    1.0    1.0    1.0\n",
       "cp        303.0    0.966997   1.032052    0.0    0.0    1.0    2.0    3.0\n",
       "trtbps    303.0  131.623762  17.538143   94.0  120.0  130.0  140.0  200.0\n",
       "chol      303.0  246.264026  51.830751  126.0  211.0  240.0  274.5  564.0\n",
       "fbs       303.0    0.148515   0.356198    0.0    0.0    0.0    0.0    1.0\n",
       "restecg   303.0    0.528053   0.525860    0.0    0.0    1.0    1.0    2.0\n",
       "thalachh  303.0  149.646865  22.905161   71.0  133.5  153.0  166.0  202.0\n",
       "exng      303.0    0.326733   0.469794    0.0    0.0    0.0    1.0    1.0\n",
       "oldpeak   303.0    1.039604   1.161075    0.0    0.0    0.8    1.6    6.2\n",
       "slp       303.0    1.399340   0.616226    0.0    1.0    1.0    2.0    2.0\n",
       "caa       303.0    0.729373   1.022606    0.0    0.0    0.0    1.0    4.0\n",
       "thall     303.0    2.313531   0.612277    0.0    2.0    2.0    3.0    3.0\n",
       "output    303.0    0.544554   0.498835    0.0    0.0    1.0    1.0    1.0"
      ]
     },
     "execution_count": 9,
     "metadata": {},
     "output_type": "execute_result"
    }
   ],
   "source": [
    "data.describe().T"
   ]
  },
  {
   "cell_type": "code",
   "execution_count": 10,
   "id": "38de324a",
   "metadata": {
    "execution": {
     "iopub.execute_input": "2021-07-13T16:31:07.312284Z",
     "iopub.status.busy": "2021-07-13T16:31:07.311640Z",
     "iopub.status.idle": "2021-07-13T16:31:09.974022Z",
     "shell.execute_reply": "2021-07-13T16:31:09.973487Z",
     "shell.execute_reply.started": "2021-07-13T16:30:16.884897Z"
    },
    "papermill": {
     "duration": 2.742021,
     "end_time": "2021-07-13T16:31:09.974165",
     "exception": false,
     "start_time": "2021-07-13T16:31:07.232144",
     "status": "completed"
    },
    "tags": []
   },
   "outputs": [
    {
     "data": {
      "image/png": "[encoded data removed]",
      "text/plain": [
       "<Figure size 1080x1080 with 16 Axes>"
      ]
     },
     "metadata": {
      "needs_background": "light"
     },
     "output_type": "display_data"
    }
   ],
   "source": [
    "# Plotting histogram for the entire dataset\n",
    "fig = plt.figure(figsize = (15,15))\n",
    "ax = fig.gca()\n",
    "g = data.hist(ax=ax)"
   ]
  },
  {
   "cell_type": "code",
   "execution_count": 11,
   "id": "c67021d3",
   "metadata": {
    "execution": {
     "iopub.execute_input": "2021-07-13T16:31:10.108792Z",
     "iopub.status.busy": "2021-07-13T16:31:10.108133Z",
     "iopub.status.idle": "2021-07-13T16:31:10.288331Z",
     "shell.execute_reply": "2021-07-13T16:31:10.287756Z",
     "shell.execute_reply.started": "2021-07-13T16:30:19.356412Z"
    },
    "papermill": {
     "duration": 0.252175,
     "end_time": "2021-07-13T16:31:10.288470",
     "exception": false,
     "start_time": "2021-07-13T16:31:10.036295",
     "status": "completed"
    },
    "tags": []
   },
   "outputs": [
    {
     "data": {
      "text/plain": [
       "<AxesSubplot:xlabel='output', ylabel='count'>"
      ]
     },
     "execution_count": 11,
     "metadata": {},
     "output_type": "execute_result"
    },
    {
     "data": {
      "image/png": "[encoded data removed]",
      "text/plain": [
       "<Figure size 432x288 with 1 Axes>"
      ]
     },
     "metadata": {
      "needs_background": "light"
     },
     "output_type": "display_data"
    }
   ],
   "source": [
    "sns.countplot(x='output',hue='sex',data=data)"
   ]
  },
  {
   "cell_type": "code",
   "execution_count": 12,
   "id": "7d716dd0",
   "metadata": {
    "execution": {
     "iopub.execute_input": "2021-07-13T16:31:10.419387Z",
     "iopub.status.busy": "2021-07-13T16:31:10.418709Z",
     "iopub.status.idle": "2021-07-13T16:31:10.423053Z",
     "shell.execute_reply": "2021-07-13T16:31:10.422471Z",
     "shell.execute_reply.started": "2021-07-13T16:30:19.534806Z"
    },
    "papermill": {
     "duration": 0.072737,
     "end_time": "2021-07-13T16:31:10.423189",
     "exception": false,
     "start_time": "2021-07-13T16:31:10.350452",
     "status": "completed"
    },
    "tags": []
   },
   "outputs": [
    {
     "name": "stdout",
     "output_type": "stream",
     "text": [
      " % of women got heart attack :  44.927536231884055\n"
     ]
    }
   ],
   "source": [
    "women=data.loc[data.sex==1]['output']\n",
    "rate_women=sum(women)/len(women) * 100\n",
    "print(' % of women got heart attack : ', rate_women)"
   ]
  },
  {
   "cell_type": "code",
   "execution_count": 13,
   "id": "4e678739",
   "metadata": {
    "execution": {
     "iopub.execute_input": "2021-07-13T16:31:10.554306Z",
     "iopub.status.busy": "2021-07-13T16:31:10.553630Z",
     "iopub.status.idle": "2021-07-13T16:31:10.559097Z",
     "shell.execute_reply": "2021-07-13T16:31:10.557944Z",
     "shell.execute_reply.started": "2021-07-13T16:30:19.544827Z"
    },
    "papermill": {
     "duration": 0.074237,
     "end_time": "2021-07-13T16:31:10.559347",
     "exception": false,
     "start_time": "2021-07-13T16:31:10.485110",
     "status": "completed"
    },
    "tags": []
   },
   "outputs": [
    {
     "name": "stdout",
     "output_type": "stream",
     "text": [
      " % of men got heart attack :  75.0\n"
     ]
    }
   ],
   "source": [
    "men=data.loc[data.sex==0]['output']\n",
    "rate_men=sum(men)/len(men) * 100\n",
    "print(' % of men got heart attack : ', rate_men)"
   ]
  },
  {
   "cell_type": "code",
   "execution_count": 14,
   "id": "9855028a",
   "metadata": {
    "execution": {
     "iopub.execute_input": "2021-07-13T16:31:10.721022Z",
     "iopub.status.busy": "2021-07-13T16:31:10.718050Z",
     "iopub.status.idle": "2021-07-13T16:31:10.837006Z",
     "shell.execute_reply": "2021-07-13T16:31:10.836447Z",
     "shell.execute_reply.started": "2021-07-13T16:30:19.560711Z"
    },
    "papermill": {
     "duration": 0.215264,
     "end_time": "2021-07-13T16:31:10.837141",
     "exception": false,
     "start_time": "2021-07-13T16:31:10.621877",
     "status": "completed"
    },
    "tags": []
   },
   "outputs": [
    {
     "data": {
      "text/plain": [
       "<AxesSubplot:xlabel='output', ylabel='count'>"
      ]
     },
     "execution_count": 14,
     "metadata": {},
     "output_type": "execute_result"
    },
    {
     "data": {
      "image/png": "[encoded data removed]",
      "text/plain": [
       "<Figure size 432x288 with 1 Axes>"
      ]
     },
     "metadata": {
      "needs_background": "light"
     },
     "output_type": "display_data"
    }
   ],
   "source": [
    "# Visualization to check if the dataset is balanced or not\n",
    "sns.countplot(x='output', data=data)\n"
   ]
  },
  {
   "cell_type": "code",
   "execution_count": 15,
   "id": "48e624e7",
   "metadata": {
    "execution": {
     "iopub.execute_input": "2021-07-13T16:31:10.976816Z",
     "iopub.status.busy": "2021-07-13T16:31:10.971519Z",
     "iopub.status.idle": "2021-07-13T16:31:11.169901Z",
     "shell.execute_reply": "2021-07-13T16:31:11.169324Z",
     "shell.execute_reply.started": "2021-07-13T16:30:19.714663Z"
    },
    "papermill": {
     "duration": 0.270363,
     "end_time": "2021-07-13T16:31:11.170048",
     "exception": false,
     "start_time": "2021-07-13T16:31:10.899685",
     "status": "completed"
    },
    "tags": []
   },
   "outputs": [
    {
     "data": {
      "text/plain": [
       "<AxesSubplot:xlabel='output', ylabel='count'>"
      ]
     },
     "execution_count": 15,
     "metadata": {},
     "output_type": "execute_result"
    },
    {
     "data": {
      "image/png": "[encoded data removed]",
      "text/plain": [
       "<Figure size 432x288 with 1 Axes>"
      ]
     },
     "metadata": {
      "needs_background": "light"
     },
     "output_type": "display_data"
    }
   ],
   "source": [
    "sns.countplot(x='output',hue='cp',data=data) #chest pain type"
   ]
  },
  {
   "cell_type": "code",
   "execution_count": 16,
   "id": "0265557d",
   "metadata": {
    "execution": {
     "iopub.execute_input": "2021-07-13T16:31:11.336031Z",
     "iopub.status.busy": "2021-07-13T16:31:11.326985Z",
     "iopub.status.idle": "2021-07-13T16:31:11.485062Z",
     "shell.execute_reply": "2021-07-13T16:31:11.484415Z",
     "shell.execute_reply.started": "2021-07-13T16:30:19.921075Z"
    },
    "papermill": {
     "duration": 0.251829,
     "end_time": "2021-07-13T16:31:11.485196",
     "exception": false,
     "start_time": "2021-07-13T16:31:11.233367",
     "status": "completed"
    },
    "tags": []
   },
   "outputs": [
    {
     "data": {
      "text/plain": [
       "<AxesSubplot:xlabel='output', ylabel='count'>"
      ]
     },
     "execution_count": 16,
     "metadata": {},
     "output_type": "execute_result"
    },
    {
     "data": {
      "image/png": "[encoded data removed]",
      "text/plain": [
       "<Figure size 432x288 with 1 Axes>"
      ]
     },
     "metadata": {
      "needs_background": "light"
     },
     "output_type": "display_data"
    }
   ],
   "source": [
    "sns.countplot(x='output',hue='exng',data=data) #exercise induced angina"
   ]
  },
  {
   "cell_type": "code",
   "execution_count": 17,
   "id": "0cdd6848",
   "metadata": {
    "execution": {
     "iopub.execute_input": "2021-07-13T16:31:11.635800Z",
     "iopub.status.busy": "2021-07-13T16:31:11.621186Z",
     "iopub.status.idle": "2021-07-13T16:31:11.799878Z",
     "shell.execute_reply": "2021-07-13T16:31:11.799175Z",
     "shell.execute_reply.started": "2021-07-13T16:30:20.102559Z"
    },
    "papermill": {
     "duration": 0.250963,
     "end_time": "2021-07-13T16:31:11.800019",
     "exception": false,
     "start_time": "2021-07-13T16:31:11.549056",
     "status": "completed"
    },
    "tags": []
   },
   "outputs": [
    {
     "data": {
      "text/plain": [
       "<AxesSubplot:xlabel='output', ylabel='count'>"
      ]
     },
     "execution_count": 17,
     "metadata": {},
     "output_type": "execute_result"
    },
    {
     "data": {
      "image/png": "[encoded data removed]",
      "text/plain": [
       "<Figure size 432x288 with 1 Axes>"
      ]
     },
     "metadata": {
      "needs_background": "light"
     },
     "output_type": "display_data"
    }
   ],
   "source": [
    "#(fasting blood sugar > 120 mg/dl) (1 = true; 0 = false)\n",
    "sns.countplot(x='output',hue='fbs',data=data) \n"
   ]
  },
  {
   "cell_type": "code",
   "execution_count": 18,
   "id": "02d49deb",
   "metadata": {
    "execution": {
     "iopub.execute_input": "2021-07-13T16:31:11.964626Z",
     "iopub.status.busy": "2021-07-13T16:31:11.949204Z",
     "iopub.status.idle": "2021-07-13T16:31:12.317738Z",
     "shell.execute_reply": "2021-07-13T16:31:12.317167Z",
     "shell.execute_reply.started": "2021-07-13T16:30:20.283683Z"
    },
    "papermill": {
     "duration": 0.452346,
     "end_time": "2021-07-13T16:31:12.317879",
     "exception": false,
     "start_time": "2021-07-13T16:31:11.865533",
     "status": "completed"
    },
    "tags": []
   },
   "outputs": [
    {
     "data": {
      "text/plain": [
       "<AxesSubplot:xlabel='chol', ylabel='Density'>"
      ]
     },
     "execution_count": 18,
     "metadata": {},
     "output_type": "execute_result"
    },
    {
     "data": {
      "image/png": "[encoded data removed]",
      "text/plain": [
       "<Figure size 432x288 with 1 Axes>"
      ]
     },
     "metadata": {
      "needs_background": "light"
     },
     "output_type": "display_data"
    }
   ],
   "source": [
    "sns.distplot(data['chol']) #cholestoral in mg/dl fetched via BMI sensor"
   ]
  },
  {
   "cell_type": "code",
   "execution_count": 19,
   "id": "cc78d59d",
   "metadata": {
    "execution": {
     "iopub.execute_input": "2021-07-13T16:31:12.482279Z",
     "iopub.status.busy": "2021-07-13T16:31:12.478597Z",
     "iopub.status.idle": "2021-07-13T16:31:12.668465Z",
     "shell.execute_reply": "2021-07-13T16:31:12.667820Z",
     "shell.execute_reply.started": "2021-07-13T16:30:20.526009Z"
    },
    "papermill": {
     "duration": 0.284328,
     "end_time": "2021-07-13T16:31:12.668618",
     "exception": false,
     "start_time": "2021-07-13T16:31:12.384290",
     "status": "completed"
    },
    "tags": []
   },
   "outputs": [
    {
     "data": {
      "text/plain": [
       "<AxesSubplot:xlabel='age', ylabel='Density'>"
      ]
     },
     "execution_count": 19,
     "metadata": {},
     "output_type": "execute_result"
    },
    {
     "data": {
      "image/png": "[encoded data removed]",
      "text/plain": [
       "<Figure size 432x288 with 1 Axes>"
      ]
     },
     "metadata": {
      "needs_background": "light"
     },
     "output_type": "display_data"
    }
   ],
   "source": [
    "sns.distplot(data['age'])"
   ]
  },
  {
   "cell_type": "code",
   "execution_count": 20,
   "id": "a3429b3e",
   "metadata": {
    "execution": {
     "iopub.execute_input": "2021-07-13T16:31:12.811021Z",
     "iopub.status.busy": "2021-07-13T16:31:12.810036Z",
     "iopub.status.idle": "2021-07-13T16:31:12.838228Z",
     "shell.execute_reply": "2021-07-13T16:31:12.837543Z",
     "shell.execute_reply.started": "2021-07-13T16:30:20.758322Z"
    },
    "papermill": {
     "duration": 0.101967,
     "end_time": "2021-07-13T16:31:12.838371",
     "exception": false,
     "start_time": "2021-07-13T16:31:12.736404",
     "status": "completed"
    },
    "tags": []
   },
   "outputs": [
    {
     "data": {
      "text/html": [
       "<div>\n",
       "<style scoped>\n",
       "    .dataframe tbody tr th:only-of-type {\n",
       "        vertical-align: middle;\n",
       "    }\n",
       "\n",
       "    .dataframe tbody tr th {\n",
       "        vertical-align: top;\n",
       "    }\n",
       "\n",
       "    .dataframe thead th {\n",
       "        text-align: right;\n",
       "    }\n",
       "</style>\n",
       "<table border=\"1\" class=\"dataframe\">\n",
       "  <thead>\n",
       "    <tr style=\"text-align: right;\">\n",
       "      <th></th>\n",
       "      <th>age</th>\n",
       "      <th>sex</th>\n",
       "      <th>cp</th>\n",
       "      <th>trtbps</th>\n",
       "      <th>chol</th>\n",
       "      <th>fbs</th>\n",
       "      <th>restecg</th>\n",
       "      <th>thalachh</th>\n",
       "      <th>exng</th>\n",
       "      <th>oldpeak</th>\n",
       "      <th>slp</th>\n",
       "      <th>caa</th>\n",
       "      <th>thall</th>\n",
       "      <th>output</th>\n",
       "    </tr>\n",
       "  </thead>\n",
       "  <tbody>\n",
       "    <tr>\n",
       "      <th>age</th>\n",
       "      <td>1.000000</td>\n",
       "      <td>-0.098447</td>\n",
       "      <td>-0.068653</td>\n",
       "      <td>0.279351</td>\n",
       "      <td>0.213678</td>\n",
       "      <td>0.121308</td>\n",
       "      <td>-0.116211</td>\n",
       "      <td>-0.398522</td>\n",
       "      <td>0.096801</td>\n",
       "      <td>0.210013</td>\n",
       "      <td>-0.168814</td>\n",
       "      <td>0.276326</td>\n",
       "      <td>0.068001</td>\n",
       "      <td>-0.225439</td>\n",
       "    </tr>\n",
       "    <tr>\n",
       "      <th>sex</th>\n",
       "      <td>-0.098447</td>\n",
       "      <td>1.000000</td>\n",
       "      <td>-0.049353</td>\n",
       "      <td>-0.056769</td>\n",
       "      <td>-0.197912</td>\n",
       "      <td>0.045032</td>\n",
       "      <td>-0.058196</td>\n",
       "      <td>-0.044020</td>\n",
       "      <td>0.141664</td>\n",
       "      <td>0.096093</td>\n",
       "      <td>-0.030711</td>\n",
       "      <td>0.118261</td>\n",
       "      <td>0.210041</td>\n",
       "      <td>-0.280937</td>\n",
       "    </tr>\n",
       "    <tr>\n",
       "      <th>cp</th>\n",
       "      <td>-0.068653</td>\n",
       "      <td>-0.049353</td>\n",
       "      <td>1.000000</td>\n",
       "      <td>0.047608</td>\n",
       "      <td>-0.076904</td>\n",
       "      <td>0.094444</td>\n",
       "      <td>0.044421</td>\n",
       "      <td>0.295762</td>\n",
       "      <td>-0.394280</td>\n",
       "      <td>-0.149230</td>\n",
       "      <td>0.119717</td>\n",
       "      <td>-0.181053</td>\n",
       "      <td>-0.161736</td>\n",
       "      <td>0.433798</td>\n",
       "    </tr>\n",
       "    <tr>\n",
       "      <th>trtbps</th>\n",
       "      <td>0.279351</td>\n",
       "      <td>-0.056769</td>\n",
       "      <td>0.047608</td>\n",
       "      <td>1.000000</td>\n",
       "      <td>0.123174</td>\n",
       "      <td>0.177531</td>\n",
       "      <td>-0.114103</td>\n",
       "      <td>-0.046698</td>\n",
       "      <td>0.067616</td>\n",
       "      <td>0.193216</td>\n",
       "      <td>-0.121475</td>\n",
       "      <td>0.101389</td>\n",
       "      <td>0.062210</td>\n",
       "      <td>-0.144931</td>\n",
       "    </tr>\n",
       "    <tr>\n",
       "      <th>chol</th>\n",
       "      <td>0.213678</td>\n",
       "      <td>-0.197912</td>\n",
       "      <td>-0.076904</td>\n",
       "      <td>0.123174</td>\n",
       "      <td>1.000000</td>\n",
       "      <td>0.013294</td>\n",
       "      <td>-0.151040</td>\n",
       "      <td>-0.009940</td>\n",
       "      <td>0.067023</td>\n",
       "      <td>0.053952</td>\n",
       "      <td>-0.004038</td>\n",
       "      <td>0.070511</td>\n",
       "      <td>0.098803</td>\n",
       "      <td>-0.085239</td>\n",
       "    </tr>\n",
       "    <tr>\n",
       "      <th>fbs</th>\n",
       "      <td>0.121308</td>\n",
       "      <td>0.045032</td>\n",
       "      <td>0.094444</td>\n",
       "      <td>0.177531</td>\n",
       "      <td>0.013294</td>\n",
       "      <td>1.000000</td>\n",
       "      <td>-0.084189</td>\n",
       "      <td>-0.008567</td>\n",
       "      <td>0.025665</td>\n",
       "      <td>0.005747</td>\n",
       "      <td>-0.059894</td>\n",
       "      <td>0.137979</td>\n",
       "      <td>-0.032019</td>\n",
       "      <td>-0.028046</td>\n",
       "    </tr>\n",
       "    <tr>\n",
       "      <th>restecg</th>\n",
       "      <td>-0.116211</td>\n",
       "      <td>-0.058196</td>\n",
       "      <td>0.044421</td>\n",
       "      <td>-0.114103</td>\n",
       "      <td>-0.151040</td>\n",
       "      <td>-0.084189</td>\n",
       "      <td>1.000000</td>\n",
       "      <td>0.044123</td>\n",
       "      <td>-0.070733</td>\n",
       "      <td>-0.058770</td>\n",
       "      <td>0.093045</td>\n",
       "      <td>-0.072042</td>\n",
       "      <td>-0.011981</td>\n",
       "      <td>0.137230</td>\n",
       "    </tr>\n",
       "    <tr>\n",
       "      <th>thalachh</th>\n",
       "      <td>-0.398522</td>\n",
       "      <td>-0.044020</td>\n",
       "      <td>0.295762</td>\n",
       "      <td>-0.046698</td>\n",
       "      <td>-0.009940</td>\n",
       "      <td>-0.008567</td>\n",
       "      <td>0.044123</td>\n",
       "      <td>1.000000</td>\n",
       "      <td>-0.378812</td>\n",
       "      <td>-0.344187</td>\n",
       "      <td>0.386784</td>\n",
       "      <td>-0.213177</td>\n",
       "      <td>-0.096439</td>\n",
       "      <td>0.421741</td>\n",
       "    </tr>\n",
       "    <tr>\n",
       "      <th>exng</th>\n",
       "      <td>0.096801</td>\n",
       "      <td>0.141664</td>\n",
       "      <td>-0.394280</td>\n",
       "      <td>0.067616</td>\n",
       "      <td>0.067023</td>\n",
       "      <td>0.025665</td>\n",
       "      <td>-0.070733</td>\n",
       "      <td>-0.378812</td>\n",
       "      <td>1.000000</td>\n",
       "      <td>0.288223</td>\n",
       "      <td>-0.257748</td>\n",
       "      <td>0.115739</td>\n",
       "      <td>0.206754</td>\n",
       "      <td>-0.436757</td>\n",
       "    </tr>\n",
       "    <tr>\n",
       "      <th>oldpeak</th>\n",
       "      <td>0.210013</td>\n",
       "      <td>0.096093</td>\n",
       "      <td>-0.149230</td>\n",
       "      <td>0.193216</td>\n",
       "      <td>0.053952</td>\n",
       "      <td>0.005747</td>\n",
       "      <td>-0.058770</td>\n",
       "      <td>-0.344187</td>\n",
       "      <td>0.288223</td>\n",
       "      <td>1.000000</td>\n",
       "      <td>-0.577537</td>\n",
       "      <td>0.222682</td>\n",
       "      <td>0.210244</td>\n",
       "      <td>-0.430696</td>\n",
       "    </tr>\n",
       "    <tr>\n",
       "      <th>slp</th>\n",
       "      <td>-0.168814</td>\n",
       "      <td>-0.030711</td>\n",
       "      <td>0.119717</td>\n",
       "      <td>-0.121475</td>\n",
       "      <td>-0.004038</td>\n",
       "      <td>-0.059894</td>\n",
       "      <td>0.093045</td>\n",
       "      <td>0.386784</td>\n",
       "      <td>-0.257748</td>\n",
       "      <td>-0.577537</td>\n",
       "      <td>1.000000</td>\n",
       "      <td>-0.080155</td>\n",
       "      <td>-0.104764</td>\n",
       "      <td>0.345877</td>\n",
       "    </tr>\n",
       "    <tr>\n",
       "      <th>caa</th>\n",
       "      <td>0.276326</td>\n",
       "      <td>0.118261</td>\n",
       "      <td>-0.181053</td>\n",
       "      <td>0.101389</td>\n",
       "      <td>0.070511</td>\n",
       "      <td>0.137979</td>\n",
       "      <td>-0.072042</td>\n",
       "      <td>-0.213177</td>\n",
       "      <td>0.115739</td>\n",
       "      <td>0.222682</td>\n",
       "      <td>-0.080155</td>\n",
       "      <td>1.000000</td>\n",
       "      <td>0.151832</td>\n",
       "      <td>-0.391724</td>\n",
       "    </tr>\n",
       "    <tr>\n",
       "      <th>thall</th>\n",
       "      <td>0.068001</td>\n",
       "      <td>0.210041</td>\n",
       "      <td>-0.161736</td>\n",
       "      <td>0.062210</td>\n",
       "      <td>0.098803</td>\n",
       "      <td>-0.032019</td>\n",
       "      <td>-0.011981</td>\n",
       "      <td>-0.096439</td>\n",
       "      <td>0.206754</td>\n",
       "      <td>0.210244</td>\n",
       "      <td>-0.104764</td>\n",
       "      <td>0.151832</td>\n",
       "      <td>1.000000</td>\n",
       "      <td>-0.344029</td>\n",
       "    </tr>\n",
       "    <tr>\n",
       "      <th>output</th>\n",
       "      <td>-0.225439</td>\n",
       "      <td>-0.280937</td>\n",
       "      <td>0.433798</td>\n",
       "      <td>-0.144931</td>\n",
       "      <td>-0.085239</td>\n",
       "      <td>-0.028046</td>\n",
       "      <td>0.137230</td>\n",
       "      <td>0.421741</td>\n",
       "      <td>-0.436757</td>\n",
       "      <td>-0.430696</td>\n",
       "      <td>0.345877</td>\n",
       "      <td>-0.391724</td>\n",
       "      <td>-0.344029</td>\n",
       "      <td>1.000000</td>\n",
       "    </tr>\n",
       "  </tbody>\n",
       "</table>\n",
       "</div>"
      ],
      "text/plain": [
       "               age       sex        cp    trtbps      chol       fbs  \\\n",
       "age       1.000000 -0.098447 -0.068653  0.279351  0.213678  0.121308   \n",
       "sex      -0.098447  1.000000 -0.049353 -0.056769 -0.197912  0.045032   \n",
       "cp       -0.068653 -0.049353  1.000000  0.047608 -0.076904  0.094444   \n",
       "trtbps    0.279351 -0.056769  0.047608  1.000000  0.123174  0.177531   \n",
       "chol      0.213678 -0.197912 -0.076904  0.123174  1.000000  0.013294   \n",
       "fbs       0.121308  0.045032  0.094444  0.177531  0.013294  1.000000   \n",
       "restecg  -0.116211 -0.058196  0.044421 -0.114103 -0.151040 -0.084189   \n",
       "thalachh -0.398522 -0.044020  0.295762 -0.046698 -0.009940 -0.008567   \n",
       "exng      0.096801  0.141664 -0.394280  0.067616  0.067023  0.025665   \n",
       "oldpeak   0.210013  0.096093 -0.149230  0.193216  0.053952  0.005747   \n",
       "slp      -0.168814 -0.030711  0.119717 -0.121475 -0.004038 -0.059894   \n",
       "caa       0.276326  0.118261 -0.181053  0.101389  0.070511  0.137979   \n",
       "thall     0.068001  0.210041 -0.161736  0.062210  0.098803 -0.032019   \n",
       "output   -0.225439 -0.280937  0.433798 -0.144931 -0.085239 -0.028046   \n",
       "\n",
       "           restecg  thalachh      exng   oldpeak       slp       caa  \\\n",
       "age      -0.116211 -0.398522  0.096801  0.210013 -0.168814  0.276326   \n",
       "sex      -0.058196 -0.044020  0.141664  0.096093 -0.030711  0.118261   \n",
       "cp        0.044421  0.295762 -0.394280 -0.149230  0.119717 -0.181053   \n",
       "trtbps   -0.114103 -0.046698  0.067616  0.193216 -0.121475  0.101389   \n",
       "chol     -0.151040 -0.009940  0.067023  0.053952 -0.004038  0.070511   \n",
       "fbs      -0.084189 -0.008567  0.025665  0.005747 -0.059894  0.137979   \n",
       "restecg   1.000000  0.044123 -0.070733 -0.058770  0.093045 -0.072042   \n",
       "thalachh  0.044123  1.000000 -0.378812 -0.344187  0.386784 -0.213177   \n",
       "exng     -0.070733 -0.378812  1.000000  0.288223 -0.257748  0.115739   \n",
       "oldpeak  -0.058770 -0.344187  0.288223  1.000000 -0.577537  0.222682   \n",
       "slp       0.093045  0.386784 -0.257748 -0.577537  1.000000 -0.080155   \n",
       "caa      -0.072042 -0.213177  0.115739  0.222682 -0.080155  1.000000   \n",
       "thall    -0.011981 -0.096439  0.206754  0.210244 -0.104764  0.151832   \n",
       "output    0.137230  0.421741 -0.436757 -0.430696  0.345877 -0.391724   \n",
       "\n",
       "             thall    output  \n",
       "age       0.068001 -0.225439  \n",
       "sex       0.210041 -0.280937  \n",
       "cp       -0.161736  0.433798  \n",
       "trtbps    0.062210 -0.144931  \n",
       "chol      0.098803 -0.085239  \n",
       "fbs      -0.032019 -0.028046  \n",
       "restecg  -0.011981  0.137230  \n",
       "thalachh -0.096439  0.421741  \n",
       "exng      0.206754 -0.436757  \n",
       "oldpeak   0.210244 -0.430696  \n",
       "slp      -0.104764  0.345877  \n",
       "caa       0.151832 -0.391724  \n",
       "thall     1.000000 -0.344029  \n",
       "output   -0.344029  1.000000  "
      ]
     },
     "execution_count": 20,
     "metadata": {},
     "output_type": "execute_result"
    }
   ],
   "source": [
    "data.corr()"
   ]
  },
  {
   "cell_type": "code",
   "execution_count": 21,
   "id": "ae4c9bf5",
   "metadata": {
    "execution": {
     "iopub.execute_input": "2021-07-13T16:31:12.985918Z",
     "iopub.status.busy": "2021-07-13T16:31:12.985183Z",
     "iopub.status.idle": "2021-07-13T16:31:14.657544Z",
     "shell.execute_reply": "2021-07-13T16:31:14.658072Z",
     "shell.execute_reply.started": "2021-07-13T16:30:20.792758Z"
    },
    "papermill": {
     "duration": 1.744841,
     "end_time": "2021-07-13T16:31:14.658241",
     "exception": false,
     "start_time": "2021-07-13T16:31:12.913400",
     "status": "completed"
    },
    "tags": []
   },
   "outputs": [
    {
     "data": {
      "text/plain": [
       "<AxesSubplot:>"
      ]
     },
     "execution_count": 21,
     "metadata": {},
     "output_type": "execute_result"
    },
    {
     "data": {
      "image/png": "[encoded data removed]",
      "text/plain": [
       "<Figure size 1440x1440 with 2 Axes>"
      ]
     },
     "metadata": {
      "needs_background": "light"
     },
     "output_type": "display_data"
    }
   ],
   "source": [
    "# Selecting correlated features using Heatmap\n",
    "\n",
    "# Get correlation of all the features of the dataset\n",
    "corr_matrix = data.corr()\n",
    "top_corr_features = corr_matrix.index\n",
    "\n",
    "# Plotting the heatmap\n",
    "plt.figure(figsize=(20,20))\n",
    "sns.heatmap(data=data[top_corr_features].corr(), annot=True, cmap='RdYlGn')"
   ]
  },
  {
   "cell_type": "markdown",
   "id": "78abf3f8",
   "metadata": {
    "papermill": {
     "duration": 0.07476,
     "end_time": "2021-07-13T16:31:14.807329",
     "exception": false,
     "start_time": "2021-07-13T16:31:14.732569",
     "status": "completed"
    },
    "tags": []
   },
   "source": [
    "# Outliers Detection"
   ]
  },
  {
   "cell_type": "code",
   "execution_count": 22,
   "id": "ef16f8c2",
   "metadata": {
    "execution": {
     "iopub.execute_input": "2021-07-13T16:31:14.992295Z",
     "iopub.status.busy": "2021-07-13T16:31:14.990255Z",
     "iopub.status.idle": "2021-07-13T16:31:16.836949Z",
     "shell.execute_reply": "2021-07-13T16:31:16.836251Z",
     "shell.execute_reply.started": "2021-07-13T16:30:22.666987Z"
    },
    "papermill": {
     "duration": 1.9557,
     "end_time": "2021-07-13T16:31:16.837090",
     "exception": false,
     "start_time": "2021-07-13T16:31:14.881390",
     "status": "completed"
    },
    "tags": []
   },
   "outputs": [
    {
     "data": {
      "image/png": "[encoded data removed]",
      "text/plain": [
       "<Figure size 432x288 with 1 Axes>"
      ]
     },
     "metadata": {
      "needs_background": "light"
     },
     "output_type": "display_data"
    },
    {
     "data": {
      "image/png": "[encoded data removed]",
      "text/plain": [
       "<Figure size 432x288 with 1 Axes>"
      ]
     },
     "metadata": {
      "needs_background": "light"
     },
     "output_type": "display_data"
    },
    {
     "data": {
      "image/png": "[encoded data removed]",
      "text/plain": [
       "<Figure size 432x288 with 1 Axes>"
      ]
     },
     "metadata": {
      "needs_background": "light"
     },
     "output_type": "display_data"
    },
    {
     "data": {
      "image/png": "[encoded data removed]",
      "text/plain": [
       "<Figure size 432x288 with 1 Axes>"
      ]
     },
     "metadata": {
      "needs_background": "light"
     },
     "output_type": "display_data"
    },
    {
     "data": {
      "image/png": "[encoded data removed]",
      "text/plain": [
       "<Figure size 432x288 with 1 Axes>"
      ]
     },
     "metadata": {
      "needs_background": "light"
     },
     "output_type": "display_data"
    },
    {
     "data": {
      "image/png": "[encoded data removed]",
      "text/plain": [
       "<Figure size 432x288 with 1 Axes>"
      ]
     },
     "metadata": {
      "needs_background": "light"
     },
     "output_type": "display_data"
    },
    {
     "data": {
      "image/png": "[encoded data removed]",
      "text/plain": [
       "<Figure size 432x288 with 1 Axes>"
      ]
     },
     "metadata": {
      "needs_background": "light"
     },
     "output_type": "display_data"
    },
    {
     "data": {
      "image/png": "[encoded data removed]",
      "text/plain": [
       "<Figure size 432x288 with 1 Axes>"
      ]
     },
     "metadata": {
      "needs_background": "light"
     },
     "output_type": "display_data"
    },
    {
     "data": {
      "image/png": "[encoded data removed]",
      "text/plain": [
       "<Figure size 432x288 with 1 Axes>"
      ]
     },
     "metadata": {
      "needs_background": "light"
     },
     "output_type": "display_data"
    },
    {
     "data": {
      "image/png": "[encoded data removed]",
      "text/plain": [
       "<Figure size 432x288 with 1 Axes>"
      ]
     },
     "metadata": {
      "needs_background": "light"
     },
     "output_type": "display_data"
    },
    {
     "data": {
      "image/png": "[encoded data removed]",
      "text/plain": [
       "<Figure size 432x288 with 1 Axes>"
      ]
     },
     "metadata": {
      "needs_background": "light"
     },
     "output_type": "display_data"
    },
    {
     "data": {
      "image/png": "[encoded data removed]",
      "text/plain": [
       "<Figure size 432x288 with 1 Axes>"
      ]
     },
     "metadata": {
      "needs_background": "light"
     },
     "output_type": "display_data"
    },
    {
     "data": {
      "image/png": "[encoded data removed]",
      "text/plain": [
       "<Figure size 432x288 with 1 Axes>"
      ]
     },
     "metadata": {
      "needs_background": "light"
     },
     "output_type": "display_data"
    },
    {
     "data": {
      "image/png": "[encoded data removed]",
      "text/plain": [
       "<Figure size 432x288 with 1 Axes>"
      ]
     },
     "metadata": {
      "needs_background": "light"
     },
     "output_type": "display_data"
    }
   ],
   "source": [
    "for i in data.columns:\n",
    "    sns.boxplot(data[i])\n",
    "    plt.title(i)\n",
    "    plt.show()"
   ]
  },
  {
   "cell_type": "markdown",
   "id": "5cd3b158",
   "metadata": {
    "papermill": {
     "duration": 0.082343,
     "end_time": "2021-07-13T16:31:17.002311",
     "exception": false,
     "start_time": "2021-07-13T16:31:16.919968",
     "status": "completed"
    },
    "tags": []
   },
   "source": [
    "# Handling Outliers"
   ]
  },
  {
   "cell_type": "code",
   "execution_count": 23,
   "id": "039c855c",
   "metadata": {
    "execution": {
     "iopub.execute_input": "2021-07-13T16:31:17.174255Z",
     "iopub.status.busy": "2021-07-13T16:31:17.173538Z",
     "iopub.status.idle": "2021-07-13T16:31:17.176389Z",
     "shell.execute_reply": "2021-07-13T16:31:17.176884Z",
     "shell.execute_reply.started": "2021-07-13T16:30:24.359372Z"
    },
    "papermill": {
     "duration": 0.091925,
     "end_time": "2021-07-13T16:31:17.177069",
     "exception": false,
     "start_time": "2021-07-13T16:31:17.085144",
     "status": "completed"
    },
    "tags": []
   },
   "outputs": [],
   "source": [
    "def outlinefree(dataCol):\n",
    "    sorted(dataCol)\n",
    "        # getting percentile 25 and 27 that will help us for getting IQR (interquartile range)\n",
    "    Q1,Q3 = np.percentile(dataCol,[25,75])\n",
    "        # getting IQR (interquartile range)\n",
    "    IQR = Q3-Q1\n",
    "        # getting Lower range error\n",
    "    LowerRange = Q1-(1.5 * IQR)\n",
    "        # getting upper range error\n",
    "    UpperRange = Q3+(1.5 * IQR)\n",
    "        # return Lower range and upper range.\n",
    "    return LowerRange,UpperRange"
   ]
  },
  {
   "cell_type": "code",
   "execution_count": 24,
   "id": "828bfd77",
   "metadata": {
    "execution": {
     "iopub.execute_input": "2021-07-13T16:31:17.376176Z",
     "iopub.status.busy": "2021-07-13T16:31:17.375239Z",
     "iopub.status.idle": "2021-07-13T16:31:17.383365Z",
     "shell.execute_reply": "2021-07-13T16:31:17.384526Z",
     "shell.execute_reply.started": "2021-07-13T16:30:24.370049Z"
    },
    "papermill": {
     "duration": 0.123701,
     "end_time": "2021-07-13T16:31:17.384853",
     "exception": false,
     "start_time": "2021-07-13T16:31:17.261152",
     "status": "completed"
    },
    "tags": []
   },
   "outputs": [],
   "source": [
    "lwtrtbps,uptrtbps = outlinefree(data['trtbps'])\n",
    "lwchol,upchol = outlinefree(data['chol'])\n",
    "lwoldpeak,upoldpeak = outlinefree(data['oldpeak'])"
   ]
  },
  {
   "cell_type": "code",
   "execution_count": 25,
   "id": "e71824d6",
   "metadata": {
    "execution": {
     "iopub.execute_input": "2021-07-13T16:31:17.557798Z",
     "iopub.status.busy": "2021-07-13T16:31:17.557150Z",
     "iopub.status.idle": "2021-07-13T16:31:17.569754Z",
     "shell.execute_reply": "2021-07-13T16:31:17.570269Z",
     "shell.execute_reply.started": "2021-07-13T16:30:24.384788Z"
    },
    "papermill": {
     "duration": 0.098421,
     "end_time": "2021-07-13T16:31:17.570471",
     "exception": false,
     "start_time": "2021-07-13T16:31:17.472050",
     "status": "completed"
    },
    "tags": []
   },
   "outputs": [],
   "source": [
    "data['trtbps'].replace(list(data[data['trtbps'] > uptrtbps].trtbps) ,uptrtbps,inplace=True)\n",
    "data['chol'].replace(list(data[data['chol'] > upchol].chol) ,upchol,inplace=True)\n",
    "data['oldpeak'].replace(list(data[data['oldpeak'] > upoldpeak].oldpeak) ,upoldpeak,inplace=True)"
   ]
  },
  {
   "cell_type": "code",
   "execution_count": 26,
   "id": "9956706c",
   "metadata": {
    "execution": {
     "iopub.execute_input": "2021-07-13T16:31:17.739959Z",
     "iopub.status.busy": "2021-07-13T16:31:17.739286Z",
     "iopub.status.idle": "2021-07-13T16:31:17.752475Z",
     "shell.execute_reply": "2021-07-13T16:31:17.753001Z",
     "shell.execute_reply.started": "2021-07-13T16:30:24.408727Z"
    },
    "papermill": {
     "duration": 0.098746,
     "end_time": "2021-07-13T16:31:17.753189",
     "exception": false,
     "start_time": "2021-07-13T16:31:17.654443",
     "status": "completed"
    },
    "tags": []
   },
   "outputs": [],
   "source": [
    "dataset = pd.get_dummies(data, columns=['sex', 'cp', 'fbs', 'restecg', 'exng', 'slp', 'caa', 'thall'])"
   ]
  },
  {
   "cell_type": "code",
   "execution_count": 27,
   "id": "50f03aeb",
   "metadata": {
    "execution": {
     "iopub.execute_input": "2021-07-13T16:31:17.921868Z",
     "iopub.status.busy": "2021-07-13T16:31:17.921177Z",
     "iopub.status.idle": "2021-07-13T16:31:17.926548Z",
     "shell.execute_reply": "2021-07-13T16:31:17.927057Z",
     "shell.execute_reply.started": "2021-07-13T16:30:24.430754Z"
    },
    "papermill": {
     "duration": 0.090447,
     "end_time": "2021-07-13T16:31:17.927223",
     "exception": false,
     "start_time": "2021-07-13T16:31:17.836776",
     "status": "completed"
    },
    "tags": []
   },
   "outputs": [
    {
     "data": {
      "text/plain": [
       "Index(['age', 'trtbps', 'chol', 'thalachh', 'oldpeak', 'output', 'sex_0',\n",
       "       'sex_1', 'cp_0', 'cp_1', 'cp_2', 'cp_3', 'fbs_0', 'fbs_1', 'restecg_0',\n",
       "       'restecg_1', 'restecg_2', 'exng_0', 'exng_1', 'slp_0', 'slp_1', 'slp_2',\n",
       "       'caa_0', 'caa_1', 'caa_2', 'caa_3', 'caa_4', 'thall_0', 'thall_1',\n",
       "       'thall_2', 'thall_3'],\n",
       "      dtype='object')"
      ]
     },
     "execution_count": 27,
     "metadata": {},
     "output_type": "execute_result"
    }
   ],
   "source": [
    "dataset.columns"
   ]
  },
  {
   "cell_type": "code",
   "execution_count": 28,
   "id": "e3e4376b",
   "metadata": {
    "execution": {
     "iopub.execute_input": "2021-07-13T16:31:18.098888Z",
     "iopub.status.busy": "2021-07-13T16:31:18.097878Z",
     "iopub.status.idle": "2021-07-13T16:31:18.245256Z",
     "shell.execute_reply": "2021-07-13T16:31:18.245883Z",
     "shell.execute_reply.started": "2021-07-13T16:30:24.441745Z"
    },
    "papermill": {
     "duration": 0.234583,
     "end_time": "2021-07-13T16:31:18.246101",
     "exception": false,
     "start_time": "2021-07-13T16:31:18.011518",
     "status": "completed"
    },
    "tags": []
   },
   "outputs": [],
   "source": [
    "from sklearn.preprocessing import StandardScaler\n",
    "standScaler = StandardScaler()\n",
    "columns_to_scale = ['age', 'trtbps', 'chol', 'thalachh', 'oldpeak']\n",
    "dataset[columns_to_scale] = standScaler.fit_transform(dataset[columns_to_scale])"
   ]
  },
  {
   "cell_type": "code",
   "execution_count": 29,
   "id": "7a434dbe",
   "metadata": {
    "execution": {
     "iopub.execute_input": "2021-07-13T16:31:18.427193Z",
     "iopub.status.busy": "2021-07-13T16:31:18.426169Z",
     "iopub.status.idle": "2021-07-13T16:31:18.450864Z",
     "shell.execute_reply": "2021-07-13T16:31:18.451373Z",
     "shell.execute_reply.started": "2021-07-13T16:30:24.466337Z"
    },
    "papermill": {
     "duration": 0.112005,
     "end_time": "2021-07-13T16:31:18.451593",
     "exception": false,
     "start_time": "2021-07-13T16:31:18.339588",
     "status": "completed"
    },
    "tags": []
   },
   "outputs": [
    {
     "data": {
      "text/html": [
       "<div>\n",
       "<style scoped>\n",
       "    .dataframe tbody tr th:only-of-type {\n",
       "        vertical-align: middle;\n",
       "    }\n",
       "\n",
       "    .dataframe tbody tr th {\n",
       "        vertical-align: top;\n",
       "    }\n",
       "\n",
       "    .dataframe thead th {\n",
       "        text-align: right;\n",
       "    }\n",
       "</style>\n",
       "<table border=\"1\" class=\"dataframe\">\n",
       "  <thead>\n",
       "    <tr style=\"text-align: right;\">\n",
       "      <th></th>\n",
       "      <th>age</th>\n",
       "      <th>trtbps</th>\n",
       "      <th>chol</th>\n",
       "      <th>thalachh</th>\n",
       "      <th>oldpeak</th>\n",
       "      <th>output</th>\n",
       "      <th>sex_0</th>\n",
       "      <th>sex_1</th>\n",
       "      <th>cp_0</th>\n",
       "      <th>cp_1</th>\n",
       "      <th>...</th>\n",
       "      <th>slp_2</th>\n",
       "      <th>caa_0</th>\n",
       "      <th>caa_1</th>\n",
       "      <th>caa_2</th>\n",
       "      <th>caa_3</th>\n",
       "      <th>caa_4</th>\n",
       "      <th>thall_0</th>\n",
       "      <th>thall_1</th>\n",
       "      <th>thall_2</th>\n",
       "      <th>thall_3</th>\n",
       "    </tr>\n",
       "  </thead>\n",
       "  <tbody>\n",
       "    <tr>\n",
       "      <th>0</th>\n",
       "      <td>0.952197</td>\n",
       "      <td>0.828728</td>\n",
       "      <td>-0.255601</td>\n",
       "      <td>0.015443</td>\n",
       "      <td>1.150938</td>\n",
       "      <td>1</td>\n",
       "      <td>0</td>\n",
       "      <td>1</td>\n",
       "      <td>0</td>\n",
       "      <td>0</td>\n",
       "      <td>...</td>\n",
       "      <td>0</td>\n",
       "      <td>1</td>\n",
       "      <td>0</td>\n",
       "      <td>0</td>\n",
       "      <td>0</td>\n",
       "      <td>0</td>\n",
       "      <td>0</td>\n",
       "      <td>1</td>\n",
       "      <td>0</td>\n",
       "      <td>0</td>\n",
       "    </tr>\n",
       "    <tr>\n",
       "      <th>1</th>\n",
       "      <td>-1.915313</td>\n",
       "      <td>-0.077351</td>\n",
       "      <td>0.102487</td>\n",
       "      <td>1.633471</td>\n",
       "      <td>2.233684</td>\n",
       "      <td>1</td>\n",
       "      <td>0</td>\n",
       "      <td>1</td>\n",
       "      <td>0</td>\n",
       "      <td>0</td>\n",
       "      <td>...</td>\n",
       "      <td>0</td>\n",
       "      <td>1</td>\n",
       "      <td>0</td>\n",
       "      <td>0</td>\n",
       "      <td>0</td>\n",
       "      <td>0</td>\n",
       "      <td>0</td>\n",
       "      <td>0</td>\n",
       "      <td>1</td>\n",
       "      <td>0</td>\n",
       "    </tr>\n",
       "    <tr>\n",
       "      <th>2</th>\n",
       "      <td>-1.474158</td>\n",
       "      <td>-0.077351</td>\n",
       "      <td>-0.866457</td>\n",
       "      <td>0.977514</td>\n",
       "      <td>0.338879</td>\n",
       "      <td>1</td>\n",
       "      <td>1</td>\n",
       "      <td>0</td>\n",
       "      <td>0</td>\n",
       "      <td>1</td>\n",
       "      <td>...</td>\n",
       "      <td>1</td>\n",
       "      <td>1</td>\n",
       "      <td>0</td>\n",
       "      <td>0</td>\n",
       "      <td>0</td>\n",
       "      <td>0</td>\n",
       "      <td>0</td>\n",
       "      <td>0</td>\n",
       "      <td>1</td>\n",
       "      <td>0</td>\n",
       "    </tr>\n",
       "    <tr>\n",
       "      <th>3</th>\n",
       "      <td>0.180175</td>\n",
       "      <td>-0.681403</td>\n",
       "      <td>-0.192409</td>\n",
       "      <td>1.239897</td>\n",
       "      <td>-0.202494</td>\n",
       "      <td>1</td>\n",
       "      <td>0</td>\n",
       "      <td>1</td>\n",
       "      <td>0</td>\n",
       "      <td>1</td>\n",
       "      <td>...</td>\n",
       "      <td>1</td>\n",
       "      <td>1</td>\n",
       "      <td>0</td>\n",
       "      <td>0</td>\n",
       "      <td>0</td>\n",
       "      <td>0</td>\n",
       "      <td>0</td>\n",
       "      <td>0</td>\n",
       "      <td>1</td>\n",
       "      <td>0</td>\n",
       "    </tr>\n",
       "    <tr>\n",
       "      <th>4</th>\n",
       "      <td>0.290464</td>\n",
       "      <td>-0.681403</td>\n",
       "      <td>2.293143</td>\n",
       "      <td>0.583939</td>\n",
       "      <td>-0.382951</td>\n",
       "      <td>1</td>\n",
       "      <td>1</td>\n",
       "      <td>0</td>\n",
       "      <td>1</td>\n",
       "      <td>0</td>\n",
       "      <td>...</td>\n",
       "      <td>1</td>\n",
       "      <td>1</td>\n",
       "      <td>0</td>\n",
       "      <td>0</td>\n",
       "      <td>0</td>\n",
       "      <td>0</td>\n",
       "      <td>0</td>\n",
       "      <td>0</td>\n",
       "      <td>1</td>\n",
       "      <td>0</td>\n",
       "    </tr>\n",
       "  </tbody>\n",
       "</table>\n",
       "<p>5 rows × 31 columns</p>\n",
       "</div>"
      ],
      "text/plain": [
       "        age    trtbps      chol  thalachh   oldpeak  output  sex_0  sex_1  \\\n",
       "0  0.952197  0.828728 -0.255601  0.015443  1.150938       1      0      1   \n",
       "1 -1.915313 -0.077351  0.102487  1.633471  2.233684       1      0      1   \n",
       "2 -1.474158 -0.077351 -0.866457  0.977514  0.338879       1      1      0   \n",
       "3  0.180175 -0.681403 -0.192409  1.239897 -0.202494       1      0      1   \n",
       "4  0.290464 -0.681403  2.293143  0.583939 -0.382951       1      1      0   \n",
       "\n",
       "   cp_0  cp_1  ...  slp_2  caa_0  caa_1  caa_2  caa_3  caa_4  thall_0  \\\n",
       "0     0     0  ...      0      1      0      0      0      0        0   \n",
       "1     0     0  ...      0      1      0      0      0      0        0   \n",
       "2     0     1  ...      1      1      0      0      0      0        0   \n",
       "3     0     1  ...      1      1      0      0      0      0        0   \n",
       "4     1     0  ...      1      1      0      0      0      0        0   \n",
       "\n",
       "   thall_1  thall_2  thall_3  \n",
       "0        1        0        0  \n",
       "1        0        1        0  \n",
       "2        0        1        0  \n",
       "3        0        1        0  \n",
       "4        0        1        0  \n",
       "\n",
       "[5 rows x 31 columns]"
      ]
     },
     "execution_count": 29,
     "metadata": {},
     "output_type": "execute_result"
    }
   ],
   "source": [
    "dataset.head()"
   ]
  },
  {
   "cell_type": "markdown",
   "id": "a58f6e58",
   "metadata": {
    "papermill": {
     "duration": 0.083115,
     "end_time": "2021-07-13T16:31:18.620025",
     "exception": false,
     "start_time": "2021-07-13T16:31:18.536910",
     "status": "completed"
    },
    "tags": []
   },
   "source": [
    "# Feature Engineering"
   ]
  },
  {
   "cell_type": "code",
   "execution_count": 30,
   "id": "b7baffaf",
   "metadata": {
    "execution": {
     "iopub.execute_input": "2021-07-13T16:31:18.796670Z",
     "iopub.status.busy": "2021-07-13T16:31:18.795974Z",
     "iopub.status.idle": "2021-07-13T16:31:18.799170Z",
     "shell.execute_reply": "2021-07-13T16:31:18.798515Z",
     "shell.execute_reply.started": "2021-07-13T16:30:24.499426Z"
    },
    "papermill": {
     "duration": 0.093435,
     "end_time": "2021-07-13T16:31:18.799309",
     "exception": false,
     "start_time": "2021-07-13T16:31:18.705874",
     "status": "completed"
    },
    "tags": []
   },
   "outputs": [],
   "source": [
    "X=dataset.drop('output',axis=1).values\n",
    "Y=dataset['output'].values"
   ]
  },
  {
   "cell_type": "markdown",
   "id": "5307ed60",
   "metadata": {
    "papermill": {
     "duration": 0.082009,
     "end_time": "2021-07-13T16:31:18.964522",
     "exception": false,
     "start_time": "2021-07-13T16:31:18.882513",
     "status": "completed"
    },
    "tags": []
   },
   "source": [
    "## Spliting data into train and test sets"
   ]
  },
  {
   "cell_type": "code",
   "execution_count": 31,
   "id": "46986422",
   "metadata": {
    "execution": {
     "iopub.execute_input": "2021-07-13T16:31:19.138374Z",
     "iopub.status.busy": "2021-07-13T16:31:19.137755Z",
     "iopub.status.idle": "2021-07-13T16:31:19.195143Z",
     "shell.execute_reply": "2021-07-13T16:31:19.195674Z",
     "shell.execute_reply.started": "2021-07-13T16:30:24.514903Z"
    },
    "papermill": {
     "duration": 0.146275,
     "end_time": "2021-07-13T16:31:19.195869",
     "exception": false,
     "start_time": "2021-07-13T16:31:19.049594",
     "status": "completed"
    },
    "tags": []
   },
   "outputs": [],
   "source": [
    "from sklearn.model_selection import train_test_split\n",
    "x_train,x_test,y_train,y_test=train_test_split(X,Y,test_size=0.25,random_state=100)"
   ]
  },
  {
   "cell_type": "markdown",
   "id": "0568cedb",
   "metadata": {
    "papermill": {
     "duration": 0.084463,
     "end_time": "2021-07-13T16:31:19.363416",
     "exception": false,
     "start_time": "2021-07-13T16:31:19.278953",
     "status": "completed"
    },
    "tags": []
   },
   "source": [
    "# Model Building"
   ]
  },
  {
   "cell_type": "markdown",
   "id": "59dce65f",
   "metadata": {
    "papermill": {
     "duration": 0.083276,
     "end_time": "2021-07-13T16:31:19.529165",
     "exception": false,
     "start_time": "2021-07-13T16:31:19.445889",
     "status": "completed"
    },
    "tags": []
   },
   "source": [
    "## Logistic Regression"
   ]
  },
  {
   "cell_type": "code",
   "execution_count": 32,
   "id": "bb878658",
   "metadata": {
    "execution": {
     "iopub.execute_input": "2021-07-13T16:31:19.702880Z",
     "iopub.status.busy": "2021-07-13T16:31:19.701638Z",
     "iopub.status.idle": "2021-07-13T16:31:19.840324Z",
     "shell.execute_reply": "2021-07-13T16:31:19.839809Z",
     "shell.execute_reply.started": "2021-07-13T16:30:24.531356Z"
    },
    "papermill": {
     "duration": 0.228387,
     "end_time": "2021-07-13T16:31:19.840463",
     "exception": false,
     "start_time": "2021-07-13T16:31:19.612076",
     "status": "completed"
    },
    "tags": []
   },
   "outputs": [
    {
     "data": {
      "text/plain": [
       "LogisticRegression()"
      ]
     },
     "execution_count": 32,
     "metadata": {},
     "output_type": "execute_result"
    }
   ],
   "source": [
    "from sklearn.linear_model import LogisticRegression\n",
    "reg= LogisticRegression()  \n",
    "reg.fit(x_train, y_train)"
   ]
  },
  {
   "cell_type": "code",
   "execution_count": 33,
   "id": "1e6f2b72",
   "metadata": {
    "execution": {
     "iopub.execute_input": "2021-07-13T16:31:20.013104Z",
     "iopub.status.busy": "2021-07-13T16:31:20.012144Z",
     "iopub.status.idle": "2021-07-13T16:31:20.015109Z",
     "shell.execute_reply": "2021-07-13T16:31:20.014581Z",
     "shell.execute_reply.started": "2021-07-13T16:30:24.572492Z"
    },
    "papermill": {
     "duration": 0.09219,
     "end_time": "2021-07-13T16:31:20.015247",
     "exception": false,
     "start_time": "2021-07-13T16:31:19.923057",
     "status": "completed"
    },
    "tags": []
   },
   "outputs": [],
   "source": [
    "predict1=reg.predict(x_test)"
   ]
  },
  {
   "cell_type": "code",
   "execution_count": 34,
   "id": "1d088b8b",
   "metadata": {
    "execution": {
     "iopub.execute_input": "2021-07-13T16:31:20.187740Z",
     "iopub.status.busy": "2021-07-13T16:31:20.187097Z",
     "iopub.status.idle": "2021-07-13T16:31:20.193896Z",
     "shell.execute_reply": "2021-07-13T16:31:20.193340Z",
     "shell.execute_reply.started": "2021-07-13T16:30:24.583363Z"
    },
    "papermill": {
     "duration": 0.094194,
     "end_time": "2021-07-13T16:31:20.194044",
     "exception": false,
     "start_time": "2021-07-13T16:31:20.099850",
     "status": "completed"
    },
    "tags": []
   },
   "outputs": [
    {
     "data": {
      "text/plain": [
       "0.8947368421052632"
      ]
     },
     "execution_count": 34,
     "metadata": {},
     "output_type": "execute_result"
    }
   ],
   "source": [
    "from sklearn.metrics import accuracy_score\n",
    "acc1=accuracy_score(predict1,y_test)\n",
    "acc1"
   ]
  },
  {
   "cell_type": "code",
   "execution_count": 35,
   "id": "c5a86a85",
   "metadata": {
    "execution": {
     "iopub.execute_input": "2021-07-13T16:31:20.372691Z",
     "iopub.status.busy": "2021-07-13T16:31:20.371638Z",
     "iopub.status.idle": "2021-07-13T16:31:20.682918Z",
     "shell.execute_reply": "2021-07-13T16:31:20.682342Z",
     "shell.execute_reply.started": "2021-07-13T16:30:24.602124Z"
    },
    "papermill": {
     "duration": 0.402166,
     "end_time": "2021-07-13T16:31:20.683071",
     "exception": false,
     "start_time": "2021-07-13T16:31:20.280905",
     "status": "completed"
    },
    "tags": []
   },
   "outputs": [
    {
     "data": {
      "text/plain": [
       "array([[33,  7],\n",
       "       [ 1, 35]])"
      ]
     },
     "execution_count": 35,
     "metadata": {},
     "output_type": "execute_result"
    },
    {
     "data": {
      "image/png": "[encoded data removed]",
      "text/plain": [
       "<Figure size 432x288 with 2 Axes>"
      ]
     },
     "metadata": {
      "needs_background": "light"
     },
     "output_type": "display_data"
    }
   ],
   "source": [
    "from sklearn.metrics import confusion_matrix\n",
    "cm=confusion_matrix(y_test,predict1)\n",
    "sns.heatmap(cm/np.sum(cm), annot=True, fmt='.2%', cmap='Blues')\n",
    "cm"
   ]
  },
  {
   "cell_type": "markdown",
   "id": "58d5ce03",
   "metadata": {
    "papermill": {
     "duration": 0.087741,
     "end_time": "2021-07-13T16:31:20.864665",
     "exception": false,
     "start_time": "2021-07-13T16:31:20.776924",
     "status": "completed"
    },
    "tags": []
   },
   "source": [
    "## KNeighbours Classifier"
   ]
  },
  {
   "cell_type": "code",
   "execution_count": 36,
   "id": "7c4d3ed4",
   "metadata": {
    "execution": {
     "iopub.execute_input": "2021-07-13T16:31:21.045119Z",
     "iopub.status.busy": "2021-07-13T16:31:21.044457Z",
     "iopub.status.idle": "2021-07-13T16:31:21.124512Z",
     "shell.execute_reply": "2021-07-13T16:31:21.124993Z",
     "shell.execute_reply.started": "2021-07-13T16:30:24.905747Z"
    },
    "papermill": {
     "duration": 0.174182,
     "end_time": "2021-07-13T16:31:21.125185",
     "exception": false,
     "start_time": "2021-07-13T16:31:20.951003",
     "status": "completed"
    },
    "tags": []
   },
   "outputs": [
    {
     "data": {
      "text/plain": [
       "KNeighborsClassifier()"
      ]
     },
     "execution_count": 36,
     "metadata": {},
     "output_type": "execute_result"
    }
   ],
   "source": [
    "from sklearn.neighbors import KNeighborsClassifier\n",
    "classifier= KNeighborsClassifier() \n",
    "classifier.fit(x_train, y_train) \n"
   ]
  },
  {
   "cell_type": "code",
   "execution_count": 37,
   "id": "3069db86",
   "metadata": {
    "execution": {
     "iopub.execute_input": "2021-07-13T16:31:21.317318Z",
     "iopub.status.busy": "2021-07-13T16:31:21.316656Z",
     "iopub.status.idle": "2021-07-13T16:31:21.330583Z",
     "shell.execute_reply": "2021-07-13T16:31:21.331081Z",
     "shell.execute_reply.started": "2021-07-13T16:30:24.918097Z"
    },
    "papermill": {
     "duration": 0.117946,
     "end_time": "2021-07-13T16:31:21.331280",
     "exception": false,
     "start_time": "2021-07-13T16:31:21.213334",
     "status": "completed"
    },
    "tags": []
   },
   "outputs": [],
   "source": [
    "predict2=classifier.predict(x_test)"
   ]
  },
  {
   "cell_type": "code",
   "execution_count": 38,
   "id": "b5a3ed86",
   "metadata": {
    "execution": {
     "iopub.execute_input": "2021-07-13T16:31:21.545610Z",
     "iopub.status.busy": "2021-07-13T16:31:21.544589Z",
     "iopub.status.idle": "2021-07-13T16:31:21.549834Z",
     "shell.execute_reply": "2021-07-13T16:31:21.548969Z",
     "shell.execute_reply.started": "2021-07-13T16:30:24.936075Z"
    },
    "papermill": {
     "duration": 0.11243,
     "end_time": "2021-07-13T16:31:21.550055",
     "exception": false,
     "start_time": "2021-07-13T16:31:21.437625",
     "status": "completed"
    },
    "tags": []
   },
   "outputs": [
    {
     "data": {
      "text/plain": [
       "0.868421052631579"
      ]
     },
     "execution_count": 38,
     "metadata": {},
     "output_type": "execute_result"
    }
   ],
   "source": [
    "from sklearn.metrics import accuracy_score\n",
    "acc2=accuracy_score(predict2,y_test)\n",
    "acc2"
   ]
  },
  {
   "cell_type": "code",
   "execution_count": 39,
   "id": "94b7fe49",
   "metadata": {
    "execution": {
     "iopub.execute_input": "2021-07-13T16:31:21.737870Z",
     "iopub.status.busy": "2021-07-13T16:31:21.737189Z",
     "iopub.status.idle": "2021-07-13T16:31:22.036978Z",
     "shell.execute_reply": "2021-07-13T16:31:22.036371Z",
     "shell.execute_reply.started": "2021-07-13T16:30:24.949307Z"
    },
    "papermill": {
     "duration": 0.391425,
     "end_time": "2021-07-13T16:31:22.037123",
     "exception": false,
     "start_time": "2021-07-13T16:31:21.645698",
     "status": "completed"
    },
    "tags": []
   },
   "outputs": [
    {
     "data": {
      "text/plain": [
       "array([[32,  8],\n",
       "       [ 2, 34]])"
      ]
     },
     "execution_count": 39,
     "metadata": {},
     "output_type": "execute_result"
    },
    {
     "data": {
      "image/png": "[encoded data removed]",
      "text/plain": [
       "<Figure size 432x288 with 2 Axes>"
      ]
     },
     "metadata": {
      "needs_background": "light"
     },
     "output_type": "display_data"
    }
   ],
   "source": [
    "from sklearn.metrics import confusion_matrix\n",
    "cm=confusion_matrix(y_test,predict2)\n",
    "sns.heatmap(cm/np.sum(cm), annot=True, fmt='.2%', cmap='Blues')\n",
    "cm"
   ]
  },
  {
   "cell_type": "markdown",
   "id": "4031c1f7",
   "metadata": {
    "papermill": {
     "duration": 0.091185,
     "end_time": "2021-07-13T16:31:22.218488",
     "exception": false,
     "start_time": "2021-07-13T16:31:22.127303",
     "status": "completed"
    },
    "tags": []
   },
   "source": [
    "## Decision Tree Classifier"
   ]
  },
  {
   "cell_type": "code",
   "execution_count": 40,
   "id": "2714547b",
   "metadata": {
    "execution": {
     "iopub.execute_input": "2021-07-13T16:31:22.399142Z",
     "iopub.status.busy": "2021-07-13T16:31:22.398372Z",
     "iopub.status.idle": "2021-07-13T16:31:22.433013Z",
     "shell.execute_reply": "2021-07-13T16:31:22.433518Z",
     "shell.execute_reply.started": "2021-07-13T16:30:25.235142Z"
    },
    "papermill": {
     "duration": 0.128637,
     "end_time": "2021-07-13T16:31:22.433743",
     "exception": false,
     "start_time": "2021-07-13T16:31:22.305106",
     "status": "completed"
    },
    "tags": []
   },
   "outputs": [
    {
     "data": {
      "text/plain": [
       "DecisionTreeClassifier(criterion='entropy', max_depth=3, random_state=2)"
      ]
     },
     "execution_count": 40,
     "metadata": {},
     "output_type": "execute_result"
    }
   ],
   "source": [
    "from sklearn.tree import DecisionTreeClassifier\n",
    "tree_classifier=DecisionTreeClassifier(criterion = 'entropy',max_depth=3,random_state=2)\n",
    "tree_classifier.fit(x_train,y_train)"
   ]
  },
  {
   "cell_type": "code",
   "execution_count": 41,
   "id": "40ce249e",
   "metadata": {
    "execution": {
     "iopub.execute_input": "2021-07-13T16:31:22.611476Z",
     "iopub.status.busy": "2021-07-13T16:31:22.610820Z",
     "iopub.status.idle": "2021-07-13T16:31:22.614889Z",
     "shell.execute_reply": "2021-07-13T16:31:22.615430Z",
     "shell.execute_reply.started": "2021-07-13T16:30:25.250109Z"
    },
    "papermill": {
     "duration": 0.094225,
     "end_time": "2021-07-13T16:31:22.615625",
     "exception": false,
     "start_time": "2021-07-13T16:31:22.521400",
     "status": "completed"
    },
    "tags": []
   },
   "outputs": [],
   "source": [
    "predict3=tree_classifier.predict(x_test)\n"
   ]
  },
  {
   "cell_type": "code",
   "execution_count": 42,
   "id": "330653e0",
   "metadata": {
    "execution": {
     "iopub.execute_input": "2021-07-13T16:31:22.797232Z",
     "iopub.status.busy": "2021-07-13T16:31:22.796475Z",
     "iopub.status.idle": "2021-07-13T16:31:22.803784Z",
     "shell.execute_reply": "2021-07-13T16:31:22.803114Z",
     "shell.execute_reply.started": "2021-07-13T16:30:25.257802Z"
    },
    "papermill": {
     "duration": 0.098192,
     "end_time": "2021-07-13T16:31:22.803924",
     "exception": false,
     "start_time": "2021-07-13T16:31:22.705732",
     "status": "completed"
    },
    "tags": []
   },
   "outputs": [
    {
     "data": {
      "text/plain": [
       "0.881578947368421"
      ]
     },
     "execution_count": 42,
     "metadata": {},
     "output_type": "execute_result"
    }
   ],
   "source": [
    "from sklearn.metrics import accuracy_score\n",
    "acc3=accuracy_score(predict3,y_test)\n",
    "acc3"
   ]
  },
  {
   "cell_type": "code",
   "execution_count": 43,
   "id": "11fb1475",
   "metadata": {
    "execution": {
     "iopub.execute_input": "2021-07-13T16:31:23.003109Z",
     "iopub.status.busy": "2021-07-13T16:31:23.002086Z",
     "iopub.status.idle": "2021-07-13T16:31:23.298605Z",
     "shell.execute_reply": "2021-07-13T16:31:23.299076Z",
     "shell.execute_reply.started": "2021-07-13T16:30:25.274990Z"
    },
    "papermill": {
     "duration": 0.405144,
     "end_time": "2021-07-13T16:31:23.299261",
     "exception": false,
     "start_time": "2021-07-13T16:31:22.894117",
     "status": "completed"
    },
    "tags": []
   },
   "outputs": [
    {
     "data": {
      "text/plain": [
       "array([[34,  6],\n",
       "       [ 3, 33]])"
      ]
     },
     "execution_count": 43,
     "metadata": {},
     "output_type": "execute_result"
    },
    {
     "data": {
      "image/png": "[encoded data removed]",
      "text/plain": [
       "<Figure size 432x288 with 2 Axes>"
      ]
     },
     "metadata": {
      "needs_background": "light"
     },
     "output_type": "display_data"
    }
   ],
   "source": [
    "from sklearn.metrics import confusion_matrix\n",
    "cm=confusion_matrix(y_test,predict3)\n",
    "sns.heatmap(cm/np.sum(cm), annot=True, fmt='.2%', cmap='Blues')\n",
    "cm"
   ]
  },
  {
   "cell_type": "markdown",
   "id": "4a9b6a55",
   "metadata": {
    "papermill": {
     "duration": 0.098528,
     "end_time": "2021-07-13T16:31:23.493290",
     "exception": false,
     "start_time": "2021-07-13T16:31:23.394762",
     "status": "completed"
    },
    "tags": []
   },
   "source": [
    "## Random Forest"
   ]
  },
  {
   "cell_type": "code",
   "execution_count": 44,
   "id": "0798832c",
   "metadata": {
    "execution": {
     "iopub.execute_input": "2021-07-13T16:31:23.680615Z",
     "iopub.status.busy": "2021-07-13T16:31:23.679890Z",
     "iopub.status.idle": "2021-07-13T16:31:23.920789Z",
     "shell.execute_reply": "2021-07-13T16:31:23.920104Z",
     "shell.execute_reply.started": "2021-07-13T16:30:25.565578Z"
    },
    "papermill": {
     "duration": 0.335701,
     "end_time": "2021-07-13T16:31:23.920938",
     "exception": false,
     "start_time": "2021-07-13T16:31:23.585237",
     "status": "completed"
    },
    "tags": []
   },
   "outputs": [
    {
     "data": {
      "text/plain": [
       "RandomForestClassifier(max_depth=5, random_state=2)"
      ]
     },
     "execution_count": 44,
     "metadata": {},
     "output_type": "execute_result"
    }
   ],
   "source": [
    "from sklearn.ensemble import RandomForestClassifier\n",
    "randomforest_model = RandomForestClassifier(max_depth=5, random_state=2)\n",
    "randomforest_model.fit(x_train, y_train)"
   ]
  },
  {
   "cell_type": "code",
   "execution_count": 45,
   "id": "66d3b92f",
   "metadata": {
    "execution": {
     "iopub.execute_input": "2021-07-13T16:31:24.133394Z",
     "iopub.status.busy": "2021-07-13T16:31:24.132709Z",
     "iopub.status.idle": "2021-07-13T16:31:24.135753Z",
     "shell.execute_reply": "2021-07-13T16:31:24.136209Z",
     "shell.execute_reply.started": "2021-07-13T16:30:25.781129Z"
    },
    "papermill": {
     "duration": 0.120612,
     "end_time": "2021-07-13T16:31:24.136415",
     "exception": false,
     "start_time": "2021-07-13T16:31:24.015803",
     "status": "completed"
    },
    "tags": []
   },
   "outputs": [],
   "source": [
    "predict4=randomforest_model.predict(x_test)\n"
   ]
  },
  {
   "cell_type": "code",
   "execution_count": 46,
   "id": "5c593865",
   "metadata": {
    "execution": {
     "iopub.execute_input": "2021-07-13T16:31:24.340707Z",
     "iopub.status.busy": "2021-07-13T16:31:24.340004Z",
     "iopub.status.idle": "2021-07-13T16:31:24.344687Z",
     "shell.execute_reply": "2021-07-13T16:31:24.344035Z",
     "shell.execute_reply.started": "2021-07-13T16:30:25.801448Z"
    },
    "papermill": {
     "duration": 0.111698,
     "end_time": "2021-07-13T16:31:24.344829",
     "exception": false,
     "start_time": "2021-07-13T16:31:24.233131",
     "status": "completed"
    },
    "tags": []
   },
   "outputs": [
    {
     "data": {
      "text/plain": [
       "0.8947368421052632"
      ]
     },
     "execution_count": 46,
     "metadata": {},
     "output_type": "execute_result"
    }
   ],
   "source": [
    "from sklearn.metrics import accuracy_score\n",
    "acc4=accuracy_score(predict4,y_test)\n",
    "acc4"
   ]
  },
  {
   "cell_type": "code",
   "execution_count": 47,
   "id": "a01c0e6b",
   "metadata": {
    "execution": {
     "iopub.execute_input": "2021-07-13T16:31:24.590498Z",
     "iopub.status.busy": "2021-07-13T16:31:24.587778Z",
     "iopub.status.idle": "2021-07-13T16:31:25.106862Z",
     "shell.execute_reply": "2021-07-13T16:31:25.105992Z",
     "shell.execute_reply.started": "2021-07-13T16:30:25.811076Z"
    },
    "papermill": {
     "duration": 0.663753,
     "end_time": "2021-07-13T16:31:25.107013",
     "exception": false,
     "start_time": "2021-07-13T16:31:24.443260",
     "status": "completed"
    },
    "tags": []
   },
   "outputs": [
    {
     "data": {
      "text/plain": [
       "array([[33,  7],\n",
       "       [ 1, 35]])"
      ]
     },
     "execution_count": 47,
     "metadata": {},
     "output_type": "execute_result"
    },
    {
     "data": {
      "image/png": "[encoded data removed]",
      "text/plain": [
       "<Figure size 432x288 with 2 Axes>"
      ]
     },
     "metadata": {
      "needs_background": "light"
     },
     "output_type": "display_data"
    }
   ],
   "source": [
    "from sklearn.metrics import confusion_matrix\n",
    "cm=confusion_matrix(y_test,predict4)\n",
    "sns.heatmap(cm/np.sum(cm), annot=True, fmt='.2%', cmap='Blues')\n",
    "cm"
   ]
  },
  {
   "cell_type": "markdown",
   "id": "707ec4f0",
   "metadata": {
    "papermill": {
     "duration": 0.093802,
     "end_time": "2021-07-13T16:31:25.292085",
     "exception": false,
     "start_time": "2021-07-13T16:31:25.198283",
     "status": "completed"
    },
    "tags": []
   },
   "source": [
    "## Gradient Boosting"
   ]
  },
  {
   "cell_type": "code",
   "execution_count": 48,
   "id": "d53566b7",
   "metadata": {
    "execution": {
     "iopub.execute_input": "2021-07-13T16:31:25.481739Z",
     "iopub.status.busy": "2021-07-13T16:31:25.481021Z",
     "iopub.status.idle": "2021-07-13T16:31:25.484604Z",
     "shell.execute_reply": "2021-07-13T16:31:25.483830Z",
     "shell.execute_reply.started": "2021-07-13T16:30:26.101883Z"
    },
    "papermill": {
     "duration": 0.10047,
     "end_time": "2021-07-13T16:31:25.484766",
     "exception": false,
     "start_time": "2021-07-13T16:31:25.384296",
     "status": "completed"
    },
    "tags": []
   },
   "outputs": [],
   "source": [
    "from sklearn import model_selection\n",
    "from sklearn.ensemble import GradientBoostingClassifier\n",
    "\n",
    "seed = 7\n",
    "num_trees = 50"
   ]
  },
  {
   "cell_type": "code",
   "execution_count": 49,
   "id": "27b8b293",
   "metadata": {
    "execution": {
     "iopub.execute_input": "2021-07-13T16:31:25.677949Z",
     "iopub.status.busy": "2021-07-13T16:31:25.677223Z",
     "iopub.status.idle": "2021-07-13T16:31:25.743365Z",
     "shell.execute_reply": "2021-07-13T16:31:25.742685Z",
     "shell.execute_reply.started": "2021-07-13T16:30:26.109980Z"
    },
    "papermill": {
     "duration": 0.165443,
     "end_time": "2021-07-13T16:31:25.743507",
     "exception": false,
     "start_time": "2021-07-13T16:31:25.578064",
     "status": "completed"
    },
    "tags": []
   },
   "outputs": [
    {
     "data": {
      "text/plain": [
       "GradientBoostingClassifier(n_estimators=50, random_state=7)"
      ]
     },
     "execution_count": 49,
     "metadata": {},
     "output_type": "execute_result"
    }
   ],
   "source": [
    "kfold = model_selection.KFold(n_splits=10, random_state=seed)\n",
    "model = GradientBoostingClassifier(n_estimators=num_trees, random_state=seed)\n",
    "model.fit(x_train,y_train)\n",
    "# results = model_selection.cross_val_score(model, x, y, cv=kfold)\n",
    "# results"
   ]
  },
  {
   "cell_type": "code",
   "execution_count": 50,
   "id": "610d3ebf",
   "metadata": {
    "execution": {
     "iopub.execute_input": "2021-07-13T16:31:25.939532Z",
     "iopub.status.busy": "2021-07-13T16:31:25.938885Z",
     "iopub.status.idle": "2021-07-13T16:31:25.942619Z",
     "shell.execute_reply": "2021-07-13T16:31:25.941515Z",
     "shell.execute_reply.started": "2021-07-13T16:30:26.186188Z"
    },
    "papermill": {
     "duration": 0.105367,
     "end_time": "2021-07-13T16:31:25.942801",
     "exception": false,
     "start_time": "2021-07-13T16:31:25.837434",
     "status": "completed"
    },
    "tags": []
   },
   "outputs": [],
   "source": [
    "predict5=model.predict(x_test)"
   ]
  },
  {
   "cell_type": "code",
   "execution_count": 51,
   "id": "02c2fc3c",
   "metadata": {
    "execution": {
     "iopub.execute_input": "2021-07-13T16:31:26.137912Z",
     "iopub.status.busy": "2021-07-13T16:31:26.136916Z",
     "iopub.status.idle": "2021-07-13T16:31:26.141606Z",
     "shell.execute_reply": "2021-07-13T16:31:26.140821Z",
     "shell.execute_reply.started": "2021-07-13T16:30:26.196427Z"
    },
    "papermill": {
     "duration": 0.104098,
     "end_time": "2021-07-13T16:31:26.141757",
     "exception": false,
     "start_time": "2021-07-13T16:31:26.037659",
     "status": "completed"
    },
    "tags": []
   },
   "outputs": [
    {
     "data": {
      "text/plain": [
       "0.8421052631578947"
      ]
     },
     "execution_count": 51,
     "metadata": {},
     "output_type": "execute_result"
    }
   ],
   "source": [
    "from sklearn.metrics import accuracy_score\n",
    "acc5=accuracy_score(predict5,y_test)\n",
    "acc5"
   ]
  },
  {
   "cell_type": "code",
   "execution_count": 52,
   "id": "bab602ae",
   "metadata": {
    "execution": {
     "iopub.execute_input": "2021-07-13T16:31:26.420655Z",
     "iopub.status.busy": "2021-07-13T16:31:26.416832Z",
     "iopub.status.idle": "2021-07-13T16:31:26.688159Z",
     "shell.execute_reply": "2021-07-13T16:31:26.687602Z",
     "shell.execute_reply.started": "2021-07-13T16:30:26.210901Z"
    },
    "papermill": {
     "duration": 0.450084,
     "end_time": "2021-07-13T16:31:26.688307",
     "exception": false,
     "start_time": "2021-07-13T16:31:26.238223",
     "status": "completed"
    },
    "tags": []
   },
   "outputs": [
    {
     "data": {
      "text/plain": [
       "array([[31,  9],\n",
       "       [ 3, 33]])"
      ]
     },
     "execution_count": 52,
     "metadata": {},
     "output_type": "execute_result"
    },
    {
     "data": {
      "image/png": "[encoded data removed]",
      "text/plain": [
       "<Figure size 432x288 with 2 Axes>"
      ]
     },
     "metadata": {
      "needs_background": "light"
     },
     "output_type": "display_data"
    }
   ],
   "source": [
    "from sklearn.metrics import confusion_matrix\n",
    "cm=confusion_matrix(y_test,predict5)\n",
    "sns.heatmap(cm/np.sum(cm), annot=True, fmt='.2%', cmap='Blues')\n",
    "cm"
   ]
  },
  {
   "cell_type": "markdown",
   "id": "c2472901",
   "metadata": {
    "papermill": {
     "duration": 0.09392,
     "end_time": "2021-07-13T16:31:26.877900",
     "exception": false,
     "start_time": "2021-07-13T16:31:26.783980",
     "status": "completed"
    },
    "tags": []
   },
   "source": [
    "# Evaluation"
   ]
  },
  {
   "cell_type": "markdown",
   "id": "2e40988f",
   "metadata": {
    "papermill": {
     "duration": 0.095432,
     "end_time": "2021-07-13T16:31:27.075200",
     "exception": false,
     "start_time": "2021-07-13T16:31:26.979768",
     "status": "completed"
    },
    "tags": []
   },
   "source": [
    "**Precision**\n",
    "\n",
    "It is the number of correct positive results divided by the number of positive results predicted by the classifier.\n",
    "\n",
    "**Recall**\n",
    "\n",
    "It is the number of correct positive results divided by the number of all relevant samples (all samples that should have been identified as positive).\n",
    "\n",
    "**f1_score**\n",
    "\n",
    "F1 Score is used to measure a test’s accuracy\n",
    "\n",
    "F1 Score is the Harmonic Mean between precision and recall. It tells you how precise your classifier is (how many instances it classifies correctly), as well as how robust it is (it does not miss a significant number of instances)."
   ]
  },
  {
   "cell_type": "code",
   "execution_count": 53,
   "id": "317d95b6",
   "metadata": {
    "execution": {
     "iopub.execute_input": "2021-07-13T16:31:27.272262Z",
     "iopub.status.busy": "2021-07-13T16:31:27.271572Z",
     "iopub.status.idle": "2021-07-13T16:31:27.275251Z",
     "shell.execute_reply": "2021-07-13T16:31:27.274743Z",
     "shell.execute_reply.started": "2021-07-13T16:30:26.498159Z"
    },
    "papermill": {
     "duration": 0.106811,
     "end_time": "2021-07-13T16:31:27.275395",
     "exception": false,
     "start_time": "2021-07-13T16:31:27.168584",
     "status": "completed"
    },
    "tags": []
   },
   "outputs": [],
   "source": [
    "from sklearn.metrics import precision_score,recall_score,f1_score,mean_absolute_error,roc_auc_score\n",
    "def metric(y_test,y_predict):\n",
    "    ps=precision_score(y_test,y_predict) #Precision\n",
    "    rs=recall_score(y_test,y_predict) #Recall\n",
    "    f1s=f1_score(y_test,y_predict) #f1Score\n",
    "    return(ps,rs,f1s)"
   ]
  },
  {
   "cell_type": "markdown",
   "id": "b08376ce",
   "metadata": {
    "papermill": {
     "duration": 0.095982,
     "end_time": "2021-07-13T16:31:27.465765",
     "exception": false,
     "start_time": "2021-07-13T16:31:27.369783",
     "status": "completed"
    },
    "tags": []
   },
   "source": [
    "## for logistic regression"
   ]
  },
  {
   "cell_type": "code",
   "execution_count": 54,
   "id": "d3dc0119",
   "metadata": {
    "execution": {
     "iopub.execute_input": "2021-07-13T16:31:27.670337Z",
     "iopub.status.busy": "2021-07-13T16:31:27.669534Z",
     "iopub.status.idle": "2021-07-13T16:31:27.679603Z",
     "shell.execute_reply": "2021-07-13T16:31:27.679072Z",
     "shell.execute_reply.started": "2021-07-13T16:30:26.505178Z"
    },
    "papermill": {
     "duration": 0.115969,
     "end_time": "2021-07-13T16:31:27.679752",
     "exception": false,
     "start_time": "2021-07-13T16:31:27.563783",
     "status": "completed"
    },
    "tags": []
   },
   "outputs": [
    {
     "data": {
      "text/plain": [
       "precession        0.833333\n",
       "Recall            0.972222\n",
       "F1_score          0.897436\n",
       "accuracy_score    0.894737\n",
       "dtype: float64"
      ]
     },
     "execution_count": 54,
     "metadata": {},
     "output_type": "execute_result"
    }
   ],
   "source": [
    "lr=list(metric(y_test,predict1))\n",
    "lr.append(acc1)\n",
    "lr=pd.Series(lr,index=['precession','Recall','F1_score','accuracy_score'])\n",
    "lr"
   ]
  },
  {
   "cell_type": "markdown",
   "id": "b476b08c",
   "metadata": {
    "papermill": {
     "duration": 0.09802,
     "end_time": "2021-07-13T16:31:27.872321",
     "exception": false,
     "start_time": "2021-07-13T16:31:27.774301",
     "status": "completed"
    },
    "tags": []
   },
   "source": [
    "## for KNN Classifier"
   ]
  },
  {
   "cell_type": "code",
   "execution_count": 55,
   "id": "704274e5",
   "metadata": {
    "execution": {
     "iopub.execute_input": "2021-07-13T16:31:28.074907Z",
     "iopub.status.busy": "2021-07-13T16:31:28.074172Z",
     "iopub.status.idle": "2021-07-13T16:31:28.084760Z",
     "shell.execute_reply": "2021-07-13T16:31:28.084045Z",
     "shell.execute_reply.started": "2021-07-13T16:30:26.528296Z"
    },
    "papermill": {
     "duration": 0.11853,
     "end_time": "2021-07-13T16:31:28.084933",
     "exception": false,
     "start_time": "2021-07-13T16:31:27.966403",
     "status": "completed"
    },
    "tags": []
   },
   "outputs": [
    {
     "data": {
      "text/plain": [
       "precession        0.809524\n",
       "Recall            0.944444\n",
       "F1_score          0.871795\n",
       "accuracy_score    0.868421\n",
       "dtype: float64"
      ]
     },
     "execution_count": 55,
     "metadata": {},
     "output_type": "execute_result"
    }
   ],
   "source": [
    "knn=list(metric(y_test,predict2))\n",
    "knn.append(acc2)\n",
    "knn=pd.Series(knn,index=['precession','Recall','F1_score','accuracy_score'])\n",
    "knn"
   ]
  },
  {
   "cell_type": "markdown",
   "id": "240a50bf",
   "metadata": {
    "papermill": {
     "duration": 0.101483,
     "end_time": "2021-07-13T16:31:28.286118",
     "exception": false,
     "start_time": "2021-07-13T16:31:28.184635",
     "status": "completed"
    },
    "tags": []
   },
   "source": [
    "## for Decision Tree"
   ]
  },
  {
   "cell_type": "code",
   "execution_count": 56,
   "id": "007c8db4",
   "metadata": {
    "execution": {
     "iopub.execute_input": "2021-07-13T16:31:28.510266Z",
     "iopub.status.busy": "2021-07-13T16:31:28.509605Z",
     "iopub.status.idle": "2021-07-13T16:31:28.518399Z",
     "shell.execute_reply": "2021-07-13T16:31:28.517873Z",
     "shell.execute_reply.started": "2021-07-13T16:30:26.544565Z"
    },
    "papermill": {
     "duration": 0.111813,
     "end_time": "2021-07-13T16:31:28.518543",
     "exception": false,
     "start_time": "2021-07-13T16:31:28.406730",
     "status": "completed"
    },
    "tags": []
   },
   "outputs": [
    {
     "data": {
      "text/plain": [
       "precession        0.846154\n",
       "Recall            0.916667\n",
       "F1_score          0.880000\n",
       "accuracy_score    0.881579\n",
       "dtype: float64"
      ]
     },
     "execution_count": 56,
     "metadata": {},
     "output_type": "execute_result"
    }
   ],
   "source": [
    "dt=list(metric(y_test,predict3))\n",
    "dt.append(acc3)\n",
    "dt=pd.Series(dt,index=['precession','Recall','F1_score','accuracy_score'])\n",
    "dt"
   ]
  },
  {
   "cell_type": "markdown",
   "id": "817ab409",
   "metadata": {
    "papermill": {
     "duration": 0.095409,
     "end_time": "2021-07-13T16:31:28.710685",
     "exception": false,
     "start_time": "2021-07-13T16:31:28.615276",
     "status": "completed"
    },
    "tags": []
   },
   "source": [
    "## For Random Forest"
   ]
  },
  {
   "cell_type": "code",
   "execution_count": 57,
   "id": "61d48401",
   "metadata": {
    "execution": {
     "iopub.execute_input": "2021-07-13T16:31:28.906487Z",
     "iopub.status.busy": "2021-07-13T16:31:28.905756Z",
     "iopub.status.idle": "2021-07-13T16:31:28.915276Z",
     "shell.execute_reply": "2021-07-13T16:31:28.914609Z",
     "shell.execute_reply.started": "2021-07-13T16:30:26.560794Z"
    },
    "papermill": {
     "duration": 0.110255,
     "end_time": "2021-07-13T16:31:28.915422",
     "exception": false,
     "start_time": "2021-07-13T16:31:28.805167",
     "status": "completed"
    },
    "tags": []
   },
   "outputs": [
    {
     "data": {
      "text/plain": [
       "precession        0.833333\n",
       "Recall            0.972222\n",
       "F1_score          0.897436\n",
       "accuracy_score    0.894737\n",
       "dtype: float64"
      ]
     },
     "execution_count": 57,
     "metadata": {},
     "output_type": "execute_result"
    }
   ],
   "source": [
    "rf=list(metric(y_test,predict4))\n",
    "rf.append(acc4)\n",
    "rf=pd.Series(rf,index=['precession','Recall','F1_score','accuracy_score'])\n",
    "rf"
   ]
  },
  {
   "cell_type": "markdown",
   "id": "3e299213",
   "metadata": {
    "papermill": {
     "duration": 0.094217,
     "end_time": "2021-07-13T16:31:29.106665",
     "exception": false,
     "start_time": "2021-07-13T16:31:29.012448",
     "status": "completed"
    },
    "tags": []
   },
   "source": [
    "## For Gradient Boosting"
   ]
  },
  {
   "cell_type": "code",
   "execution_count": 58,
   "id": "9caa34df",
   "metadata": {
    "execution": {
     "iopub.execute_input": "2021-07-13T16:31:29.305207Z",
     "iopub.status.busy": "2021-07-13T16:31:29.304505Z",
     "iopub.status.idle": "2021-07-13T16:31:29.314766Z",
     "shell.execute_reply": "2021-07-13T16:31:29.314153Z",
     "shell.execute_reply.started": "2021-07-13T16:30:26.580444Z"
    },
    "papermill": {
     "duration": 0.113017,
     "end_time": "2021-07-13T16:31:29.314918",
     "exception": false,
     "start_time": "2021-07-13T16:31:29.201901",
     "status": "completed"
    },
    "tags": []
   },
   "outputs": [
    {
     "data": {
      "text/plain": [
       "precession        0.785714\n",
       "Recall            0.916667\n",
       "F1_score          0.846154\n",
       "accuracy_score    0.842105\n",
       "dtype: float64"
      ]
     },
     "execution_count": 58,
     "metadata": {},
     "output_type": "execute_result"
    }
   ],
   "source": [
    "gb=list(metric(y_test,predict5))\n",
    "gb.append(acc5)\n",
    "gb=pd.Series(gb,index=['precession','Recall','F1_score','accuracy_score'])\n",
    "gb"
   ]
  },
  {
   "cell_type": "code",
   "execution_count": 59,
   "id": "812516d6",
   "metadata": {
    "execution": {
     "iopub.execute_input": "2021-07-13T16:31:29.516053Z",
     "iopub.status.busy": "2021-07-13T16:31:29.515386Z",
     "iopub.status.idle": "2021-07-13T16:31:29.517847Z",
     "shell.execute_reply": "2021-07-13T16:31:29.518345Z",
     "shell.execute_reply.started": "2021-07-13T16:30:26.599128Z"
    },
    "papermill": {
     "duration": 0.107127,
     "end_time": "2021-07-13T16:31:29.518518",
     "exception": false,
     "start_time": "2021-07-13T16:31:29.411391",
     "status": "completed"
    },
    "tags": []
   },
   "outputs": [],
   "source": [
    "eval=pd.DataFrame([lr,knn,dt,rf,gb],index=['LogisticRegression','KNN_Classifier','Decision_Tree','Random Forest','Gradient Boosting'])"
   ]
  },
  {
   "cell_type": "code",
   "execution_count": 60,
   "id": "91fc6108",
   "metadata": {
    "execution": {
     "iopub.execute_input": "2021-07-13T16:31:29.720323Z",
     "iopub.status.busy": "2021-07-13T16:31:29.719424Z",
     "iopub.status.idle": "2021-07-13T16:31:29.724125Z",
     "shell.execute_reply": "2021-07-13T16:31:29.723623Z",
     "shell.execute_reply.started": "2021-07-13T16:30:26.609780Z"
    },
    "papermill": {
     "duration": 0.110882,
     "end_time": "2021-07-13T16:31:29.724267",
     "exception": false,
     "start_time": "2021-07-13T16:31:29.613385",
     "status": "completed"
    },
    "tags": []
   },
   "outputs": [
    {
     "data": {
      "text/html": [
       "<div>\n",
       "<style scoped>\n",
       "    .dataframe tbody tr th:only-of-type {\n",
       "        vertical-align: middle;\n",
       "    }\n",
       "\n",
       "    .dataframe tbody tr th {\n",
       "        vertical-align: top;\n",
       "    }\n",
       "\n",
       "    .dataframe thead th {\n",
       "        text-align: right;\n",
       "    }\n",
       "</style>\n",
       "<table border=\"1\" class=\"dataframe\">\n",
       "  <thead>\n",
       "    <tr style=\"text-align: right;\">\n",
       "      <th></th>\n",
       "      <th>precession</th>\n",
       "      <th>Recall</th>\n",
       "      <th>F1_score</th>\n",
       "      <th>accuracy_score</th>\n",
       "    </tr>\n",
       "  </thead>\n",
       "  <tbody>\n",
       "    <tr>\n",
       "      <th>LogisticRegression</th>\n",
       "      <td>0.833333</td>\n",
       "      <td>0.972222</td>\n",
       "      <td>0.897436</td>\n",
       "      <td>0.894737</td>\n",
       "    </tr>\n",
       "    <tr>\n",
       "      <th>KNN_Classifier</th>\n",
       "      <td>0.809524</td>\n",
       "      <td>0.944444</td>\n",
       "      <td>0.871795</td>\n",
       "      <td>0.868421</td>\n",
       "    </tr>\n",
       "    <tr>\n",
       "      <th>Decision_Tree</th>\n",
       "      <td>0.846154</td>\n",
       "      <td>0.916667</td>\n",
       "      <td>0.880000</td>\n",
       "      <td>0.881579</td>\n",
       "    </tr>\n",
       "    <tr>\n",
       "      <th>Random Forest</th>\n",
       "      <td>0.833333</td>\n",
       "      <td>0.972222</td>\n",
       "      <td>0.897436</td>\n",
       "      <td>0.894737</td>\n",
       "    </tr>\n",
       "    <tr>\n",
       "      <th>Gradient Boosting</th>\n",
       "      <td>0.785714</td>\n",
       "      <td>0.916667</td>\n",
       "      <td>0.846154</td>\n",
       "      <td>0.842105</td>\n",
       "    </tr>\n",
       "  </tbody>\n",
       "</table>\n",
       "</div>"
      ],
      "text/plain": [
       "                    precession    Recall  F1_score  accuracy_score\n",
       "LogisticRegression    0.833333  0.972222  0.897436        0.894737\n",
       "KNN_Classifier        0.809524  0.944444  0.871795        0.868421\n",
       "Decision_Tree         0.846154  0.916667  0.880000        0.881579\n",
       "Random Forest         0.833333  0.972222  0.897436        0.894737\n",
       "Gradient Boosting     0.785714  0.916667  0.846154        0.842105"
      ]
     },
     "execution_count": 60,
     "metadata": {},
     "output_type": "execute_result"
    }
   ],
   "source": [
    "eval"
   ]
  },
  {
   "cell_type": "markdown",
   "id": "68c29c76",
   "metadata": {
    "papermill": {
     "duration": 0.096303,
     "end_time": "2021-07-13T16:31:29.916540",
     "exception": false,
     "start_time": "2021-07-13T16:31:29.820237",
     "status": "completed"
    },
    "tags": []
   },
   "source": [
    "# From the above observations we can finalize Logistic Regression or Random Forest as our best model"
   ]
  }
 ],
 "metadata": {
  "kernelspec": {
   "display_name": "Python 3",
   "language": "python",
   "name": "python3"
  },
  "language_info": {
   "codemirror_mode": {
    "name": "ipython",
    "version": 3
   },
   "file_extension": ".py",
   "mimetype": "text/x-python",
   "name": "python",
   "nbconvert_exporter": "python",
   "pygments_lexer": "ipython3",
   "version": "3.7.10"
  },
  "papermill": {
   "default_parameters": {},
   "duration": 35.004988,
   "end_time": "2021-07-13T16:31:31.391934",
   "environment_variables": {},
   "exception": null,
   "input_path": "__notebook__.ipynb",
   "output_path": "__notebook__.ipynb",
   "parameters": {},
   "start_time": "2021-07-13T16:30:56.386946",
   "version": "2.3.3"
  }
 },
 "nbformat": 4,
 "nbformat_minor": 5
}
